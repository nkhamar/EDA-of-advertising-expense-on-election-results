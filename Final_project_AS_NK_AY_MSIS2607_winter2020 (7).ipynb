{
 "cells": [
  {
   "cell_type": "markdown",
   "metadata": {},
   "source": [
    "## Nkhamar@scu.edu (NIYATI KHAMAR)\n",
    "## Asheth@scu.edu (AARJAV SHETH)\n",
    "## Ayadav@scu.edu (ANISH YADAV)\n",
    "\n",
    "# <center>FINAL PROJECT<center>\n",
    "    \n",
    "   <img src=\"files/politics-money.jpg\">\n",
    "\n",
    "\n",
    "\n",
    "\n",
    "As international students coming from India,We were very fascinated by how elections work in the United States.As our prime Minister put it - The oldest democracy vs. The largest democracy.After witnessing a part of the 2020 Presidential Elections in the United States it was shocking to see how much candidates spend on advertising and other election spending. We decided to pick up this dataset we found describing the American Congressional Election Disbursments.\n",
    "\n",
    "There are many Analyses with the candidates' profiles, political experiences, campaign slogans, signature issues and strategies, advantages and disadvantages, etc. However, the financial resource they possess is less discussed in the mass media. The economic behaviors of political figures and groups, who have an absolute influence on the economy, are seldom evaluated from a financial angle.This fact remains the same throuout the world.\n",
    "\n",
    "With this analysis we aim to figure out:\n",
    "\n",
    "**Where are candidates spending all their money?**\n",
    "\n",
    "**How much does spending money affect whether they win or not?** \n"
   ]
  },
  {
   "cell_type": "markdown",
   "metadata": {},
   "source": [
    "# Data Source:\n",
    "\n",
    "## LINKS TO DATA:\n",
    "https://www.kaggle.com/fec/congressional-election-expenditures\n",
    "https://drive.google.com/file/d/1OmHrhpOoSU481aM2Q2RMHTnwSu01owMX/view?usp=sharing  (2018 data)\n",
    "https://data.world/govtrack/us-congress-legislators\n",
    "\n",
    "Campaign committees are required to disclose all specific disbursements that are contributions to other federal candidates or parties or other committees as well as all loan repayments. For other spending (normal operating expenses, for example or contributions to state or local candidates) specific disbursements must be disclosed when the amount paid to any one vendor exceeds $200 in an election cycle. This information was stated after reviewing the FEC's Campaign Guide (https://classic.fec.gov/pdf/candgui.pdf).\n",
    "\n",
    "The disbursement datasets are provided by the **Federal Election Commission** online.\n",
    "\n",
    "\n",
    "## Data Description:\n",
    "\n",
    "#### A description of the coloumns in our dataset.For this particular project we will be using 4 datasets of seperate cycles and joining them for our findings\n",
    "\n",
    "**com_id**-Committee ID - Unique identifier used by the Commission to identify each political committee.\n",
    "\n",
    "**com_name** -Committee Name - Name of committee \n",
    "\n",
    "**can_id** -Candidate ID- ID of candidate in the political committee.(H=House, S=Senate, P=Presidential)\n",
    "\n",
    "**can_nam** -Candidate name-Name of the candidate\n",
    "\n",
    "**ele_yea** -Election year-General election year in which this candidate is running\n",
    "\n",
    "**can_off** -Candidate Office-Office (P=President; S=Senate; H=House)\n",
    "\n",
    "**can_off_sta** -Candidate Office State\t-\tPostal abbreviation for State\t\t\n",
    "\n",
    "**can_off_dis** -Candidate Office District\t-District number for House candidates\n",
    "\n",
    "**lin_num-Line number from Detailed Summary Page of FEC Form 3** -category of disbursement based on detailed summary page of FEC Form 3\t\n",
    "\n",
    "**rec_com_id** -Recipient Committee ID\t- ID number of the committee receiving the payment\n",
    "\n",
    "**rec_nam** -Recipient Name -\tName of the person or vendor or other entity receiving this payment from the committee\n",
    "\n",
    "**rec_str1** -Recipient Street Address-\tStreet address of entity being paid\tmax \n",
    "\n",
    "**rec_str2** -Apt. number or Suite number- For the recipient\t\t\n",
    "\n",
    "**rec_cit** -recipient city\t- For the recipient\n",
    "\n",
    "**rec_sta** -recipient state\t- postal state abbreviation\n",
    "\n",
    "**rec_zip** -recipient zip - zip code for the recipient\n",
    "\n",
    "**dis_dat** -date of disbursement - date of specific disbursement\t\t\n",
    "\n",
    "**dis_amo** -amount of disbursement\t- amount spent\t\n",
    "\n",
    "**dis_pur_des** -purpose description\t- description of the purpose of the disbursement.\n",
    "\n",
    "**mem_cod** -memo code\t-\trecord is \"memo\" so not included in totals\n",
    "\n",
    "**mem_tex** -memo text\t- explanation for the memo notation\n",
    "\n",
    "**cat_cod** -category code\t- see the list of category codes\n",
    "\n",
    "**cat_des**-category description\t-\tdescription of category for disbursement\n",
    "\n",
    "**tra_id**-transaction id\t-\tunique identifier for the transaction \n",
    "\n",
    "**bac_ref_id** -back reference id-\t\"parent\" transaction id where there is a relationship between two transactions "
   ]
  },
  {
   "cell_type": "code",
   "execution_count": 1,
   "metadata": {},
   "outputs": [],
   "source": [
    "#Import dependencies\n",
    "import numpy as np\n",
    "import pandas as pd\n",
    "import matplotlib.pyplot as plt\n",
    "\n",
    "%matplotlib inline\n",
    "import seaborn as sns\n",
    "\n",
    "import chart_studio.plotly as py\n",
    "import plotly.graph_objs as go\n",
    "import plotly"
   ]
  },
  {
   "cell_type": "markdown",
   "metadata": {},
   "source": [
    "# Data Exploration"
   ]
  },
  {
   "cell_type": "code",
   "execution_count": 2,
   "metadata": {},
   "outputs": [],
   "source": [
    "## Load the data\n",
    "from IPython.core.interactiveshell import InteractiveShell\n",
    "InteractiveShell.ast_node_interactivity = \"all\"\n",
    "\n",
    "import pandas as pd\n",
    "\n",
    "df2012=pd.read_csv('all_house_senate_2012.csv',low_memory=False)\n",
    "df2014=pd.read_csv('all_house_senate_2014.csv',low_memory=False)\n",
    "df2016=pd.read_csv('all_house_senate_2016.csv',encoding='ANSI',low_memory=False)\n",
    "df2018=pd.read_csv('all_house_senate_2018.csv',low_memory=False)\n",
    "\n",
    "data = pd.concat([df2012,df2014,df2016,df2018])\n"
   ]
  },
  {
   "cell_type": "code",
   "execution_count": 3,
   "metadata": {},
   "outputs": [
    {
     "data": {
      "text/html": [
       "<div>\n",
       "<style scoped>\n",
       "    .dataframe tbody tr th:only-of-type {\n",
       "        vertical-align: middle;\n",
       "    }\n",
       "\n",
       "    .dataframe tbody tr th {\n",
       "        vertical-align: top;\n",
       "    }\n",
       "\n",
       "    .dataframe thead th {\n",
       "        text-align: right;\n",
       "    }\n",
       "</style>\n",
       "<table border=\"1\" class=\"dataframe\">\n",
       "  <thead>\n",
       "    <tr style=\"text-align: right;\">\n",
       "      <th></th>\n",
       "      <th>com_id</th>\n",
       "      <th>com_nam</th>\n",
       "      <th>can_id</th>\n",
       "      <th>can_nam</th>\n",
       "      <th>ele_yea</th>\n",
       "      <th>can_off</th>\n",
       "      <th>can_off_sta</th>\n",
       "      <th>can_off_dis</th>\n",
       "      <th>lin_num</th>\n",
       "      <th>lin_ima</th>\n",
       "      <th>...</th>\n",
       "      <th>rec_zip</th>\n",
       "      <th>dis_dat</th>\n",
       "      <th>dis_amo</th>\n",
       "      <th>dis_pur_des</th>\n",
       "      <th>mem_cod</th>\n",
       "      <th>mem_tex</th>\n",
       "      <th>cat_cod</th>\n",
       "      <th>cat_des</th>\n",
       "      <th>tra_id</th>\n",
       "      <th>bac_ref_id</th>\n",
       "    </tr>\n",
       "  </thead>\n",
       "  <tbody>\n",
       "    <tr>\n",
       "      <td>0</td>\n",
       "      <td>C00012229</td>\n",
       "      <td>ALASKANS FOR DON YOUNG</td>\n",
       "      <td>H6AK00045</td>\n",
       "      <td>YOUNG, DONALD E</td>\n",
       "      <td>2012</td>\n",
       "      <td>H</td>\n",
       "      <td>AK</td>\n",
       "      <td>1.0</td>\n",
       "      <td>17</td>\n",
       "      <td>http://docquery.fec.gov/cgi-bin/fecimg/?129713...</td>\n",
       "      <td>...</td>\n",
       "      <td>99503</td>\n",
       "      <td>2012-04-12</td>\n",
       "      <td>$100.00</td>\n",
       "      <td>OFFICE SNOW PLOWING</td>\n",
       "      <td>NaN</td>\n",
       "      <td>OFFICE SNOW PLOWING</td>\n",
       "      <td>NaN</td>\n",
       "      <td>NaN</td>\n",
       "      <td>20620.E11576</td>\n",
       "      <td>NaN</td>\n",
       "    </tr>\n",
       "    <tr>\n",
       "      <td>1</td>\n",
       "      <td>C00116632</td>\n",
       "      <td>HAL ROGERS FOR CONGRESS</td>\n",
       "      <td>H0KY05015</td>\n",
       "      <td>ROGERS, HAROLD DALLAS</td>\n",
       "      <td>2012</td>\n",
       "      <td>H</td>\n",
       "      <td>KY</td>\n",
       "      <td>5.0</td>\n",
       "      <td>17</td>\n",
       "      <td>http://docquery.fec.gov/cgi-bin/fecimg/?129503...</td>\n",
       "      <td>...</td>\n",
       "      <td>40511</td>\n",
       "      <td>2011-12-21</td>\n",
       "      <td>$4,491.01</td>\n",
       "      <td>CATERING/LODGING</td>\n",
       "      <td>NaN</td>\n",
       "      <td>NaN</td>\n",
       "      <td>NaN</td>\n",
       "      <td>NaN</td>\n",
       "      <td>D184-00BL0D</td>\n",
       "      <td>NaN</td>\n",
       "    </tr>\n",
       "    <tr>\n",
       "      <td>2</td>\n",
       "      <td>C00116632</td>\n",
       "      <td>HAL ROGERS FOR CONGRESS</td>\n",
       "      <td>H0KY05015</td>\n",
       "      <td>ROGERS, HAROLD DALLAS</td>\n",
       "      <td>2012</td>\n",
       "      <td>H</td>\n",
       "      <td>KY</td>\n",
       "      <td>5.0</td>\n",
       "      <td>17</td>\n",
       "      <td>http://docquery.fec.gov/cgi-bin/fecimg/?129503...</td>\n",
       "      <td>...</td>\n",
       "      <td>20001</td>\n",
       "      <td>2011-10-12</td>\n",
       "      <td>$1,400.40</td>\n",
       "      <td>* IN-KIND-&gt;CATERING, RM RENTAL, STAF</td>\n",
       "      <td>NaN</td>\n",
       "      <td>NaN</td>\n",
       "      <td>NaN</td>\n",
       "      <td>NaN</td>\n",
       "      <td>D339-01MU01</td>\n",
       "      <td>NaN</td>\n",
       "    </tr>\n",
       "    <tr>\n",
       "      <td>3</td>\n",
       "      <td>C00412312</td>\n",
       "      <td>KANSAFORNIAN PAC</td>\n",
       "      <td>H6CA48039</td>\n",
       "      <td>CAMPBELL, JOHN BT III</td>\n",
       "      <td>2012</td>\n",
       "      <td>H</td>\n",
       "      <td>CA</td>\n",
       "      <td>45.0</td>\n",
       "      <td>17</td>\n",
       "      <td>http://docquery.fec.gov/cgi-bin/fecimg/?139609...</td>\n",
       "      <td>...</td>\n",
       "      <td>927055646</td>\n",
       "      <td>2012-09-26</td>\n",
       "      <td>$5,000.00</td>\n",
       "      <td>SLATE APPERANCE FOR PROPOSITIO</td>\n",
       "      <td>NaN</td>\n",
       "      <td>NaN</td>\n",
       "      <td>NaN</td>\n",
       "      <td>NaN</td>\n",
       "      <td>B-E-14419</td>\n",
       "      <td>NaN</td>\n",
       "    </tr>\n",
       "    <tr>\n",
       "      <td>4</td>\n",
       "      <td>C00410118</td>\n",
       "      <td>BACHMANN FOR CONGRESS</td>\n",
       "      <td>P20002978</td>\n",
       "      <td>BACHMANN, MICHELE</td>\n",
       "      <td>2012</td>\n",
       "      <td>P</td>\n",
       "      <td>US</td>\n",
       "      <td>0.0</td>\n",
       "      <td>17</td>\n",
       "      <td>http://docquery.fec.gov/cgi-bin/fecimg/?129514...</td>\n",
       "      <td>...</td>\n",
       "      <td>940431307</td>\n",
       "      <td>2012-03-02</td>\n",
       "      <td>$59.95</td>\n",
       "      <td>FUNDRAISING: CREDIT CARD FEES</td>\n",
       "      <td>NaN</td>\n",
       "      <td>NaN</td>\n",
       "      <td>003</td>\n",
       "      <td>Solicitation and Fundraising Expenses</td>\n",
       "      <td>B-E-504262</td>\n",
       "      <td>NaN</td>\n",
       "    </tr>\n",
       "  </tbody>\n",
       "</table>\n",
       "<p>5 rows × 26 columns</p>\n",
       "</div>"
      ],
      "text/plain": [
       "      com_id                  com_nam     can_id                can_nam  \\\n",
       "0  C00012229   ALASKANS FOR DON YOUNG  H6AK00045        YOUNG, DONALD E   \n",
       "1  C00116632  HAL ROGERS FOR CONGRESS  H0KY05015  ROGERS, HAROLD DALLAS   \n",
       "2  C00116632  HAL ROGERS FOR CONGRESS  H0KY05015  ROGERS, HAROLD DALLAS   \n",
       "3  C00412312         KANSAFORNIAN PAC  H6CA48039  CAMPBELL, JOHN BT III   \n",
       "4  C00410118    BACHMANN FOR CONGRESS  P20002978      BACHMANN, MICHELE   \n",
       "\n",
       "   ele_yea can_off can_off_sta  can_off_dis lin_num  \\\n",
       "0     2012       H          AK          1.0      17   \n",
       "1     2012       H          KY          5.0      17   \n",
       "2     2012       H          KY          5.0      17   \n",
       "3     2012       H          CA         45.0      17   \n",
       "4     2012       P          US          0.0      17   \n",
       "\n",
       "                                             lin_ima  ...    rec_zip  \\\n",
       "0  http://docquery.fec.gov/cgi-bin/fecimg/?129713...  ...      99503   \n",
       "1  http://docquery.fec.gov/cgi-bin/fecimg/?129503...  ...      40511   \n",
       "2  http://docquery.fec.gov/cgi-bin/fecimg/?129503...  ...      20001   \n",
       "3  http://docquery.fec.gov/cgi-bin/fecimg/?139609...  ...  927055646   \n",
       "4  http://docquery.fec.gov/cgi-bin/fecimg/?129514...  ...  940431307   \n",
       "\n",
       "      dis_dat    dis_amo                           dis_pur_des mem_cod  \\\n",
       "0  2012-04-12    $100.00                   OFFICE SNOW PLOWING     NaN   \n",
       "1  2011-12-21  $4,491.01                      CATERING/LODGING     NaN   \n",
       "2  2011-10-12  $1,400.40  * IN-KIND->CATERING, RM RENTAL, STAF     NaN   \n",
       "3  2012-09-26  $5,000.00        SLATE APPERANCE FOR PROPOSITIO     NaN   \n",
       "4  2012-03-02     $59.95         FUNDRAISING: CREDIT CARD FEES     NaN   \n",
       "\n",
       "               mem_tex cat_cod                                 cat_des  \\\n",
       "0  OFFICE SNOW PLOWING     NaN                                     NaN   \n",
       "1                  NaN     NaN                                     NaN   \n",
       "2                  NaN     NaN                                     NaN   \n",
       "3                  NaN     NaN                                     NaN   \n",
       "4                  NaN     003  Solicitation and Fundraising Expenses    \n",
       "\n",
       "         tra_id bac_ref_id  \n",
       "0  20620.E11576        NaN  \n",
       "1   D184-00BL0D        NaN  \n",
       "2   D339-01MU01        NaN  \n",
       "3     B-E-14419        NaN  \n",
       "4    B-E-504262        NaN  \n",
       "\n",
       "[5 rows x 26 columns]"
      ]
     },
     "execution_count": 3,
     "metadata": {},
     "output_type": "execute_result"
    }
   ],
   "source": [
    "import warnings\n",
    "warnings.filterwarnings('ignore')\n",
    "df2012.head()"
   ]
  },
  {
   "cell_type": "code",
   "execution_count": 4,
   "metadata": {},
   "outputs": [
    {
     "data": {
      "text/plain": [
       "3522425"
      ]
     },
     "execution_count": 4,
     "metadata": {},
     "output_type": "execute_result"
    }
   ],
   "source": [
    "## finding number of rows in our dataset\n",
    "len(df2012)+len(df2014)+len(df2016)+len(df2018) # There are about 3.5 million rows in all."
   ]
  },
  {
   "cell_type": "code",
   "execution_count": 5,
   "metadata": {},
   "outputs": [
    {
     "data": {
      "text/plain": [
       "Index(['com_id', 'com_nam', 'can_id', 'can_nam', 'ele_yea', 'can_off',\n",
       "       'can_off_sta', 'can_off_dis', 'lin_num', 'lin_ima', 'rec_com_id',\n",
       "       'rec_nam', 'rec_str1', 'rec_str2', 'rec_cit', 'rec_sta', 'rec_zip',\n",
       "       'dis_dat', 'dis_amo', 'dis_pur_des', 'mem_cod', 'mem_tex', 'cat_cod',\n",
       "       'cat_des', 'tra_id', 'bac_ref_id'],\n",
       "      dtype='object')"
      ]
     },
     "execution_count": 5,
     "metadata": {},
     "output_type": "execute_result"
    }
   ],
   "source": [
    "## names of coloumns in the dataset(datasets are identical)\n",
    "\n",
    "df2012.columns\n"
   ]
  },
  {
   "cell_type": "code",
   "execution_count": 6,
   "metadata": {},
   "outputs": [
    {
     "data": {
      "text/plain": [
       "26"
      ]
     },
     "execution_count": 6,
     "metadata": {},
     "output_type": "execute_result"
    }
   ],
   "source": [
    "## there are 26 rows in all datasets(datasets are identical)\n",
    "a=df2012.columns\n",
    "len(a)"
   ]
  },
  {
   "cell_type": "markdown",
   "metadata": {},
   "source": [
    "# Data Cleaning and Feature Engineering"
   ]
  },
  {
   "cell_type": "code",
   "execution_count": 7,
   "metadata": {},
   "outputs": [
    {
     "data": {
      "text/plain": [
       "8402863354.370003"
      ]
     },
     "execution_count": 7,
     "metadata": {},
     "output_type": "execute_result"
    }
   ],
   "source": [
    "## removing $ signs from the dis_amo \n",
    "\n",
    "data.dis_amo.replace({'\\$':''},regex=True,inplace=True)\n",
    "data.dis_amo.replace({'\\,':''},regex=True,inplace=True)\n",
    "data.dis_amo.replace({'\\(':'-'},regex=True,inplace=True)\n",
    "data.dis_amo.replace({'\\)':''},regex=True,inplace=True)\n",
    "data['dis_amo'] = pd.to_numeric(data.dis_amo)\n",
    "data.dis_amo.sum() \n"
   ]
  },
  {
   "cell_type": "code",
   "execution_count": 8,
   "metadata": {},
   "outputs": [],
   "source": [
    "#Split to positive and negetive coloumns\n",
    "mask = data['dis_amo'] < 0\n",
    "data['dis_amo_pos'] = data['dis_amo'].mask(mask)\n",
    "data['dis_amo_neg'] = data['dis_amo'].mask(~mask)\n",
    "data['dis_amo_pos'].fillna(0, inplace=True)\n",
    "data['dis_amo_neg'].fillna(0, inplace=True)"
   ]
  },
  {
   "cell_type": "code",
   "execution_count": 9,
   "metadata": {},
   "outputs": [
    {
     "data": {
      "text/plain": [
       "com_id               0\n",
       "com_nam              0\n",
       "can_id               0\n",
       "can_nam              0\n",
       "ele_yea              0\n",
       "can_off              0\n",
       "can_off_sta          0\n",
       "can_off_dis        639\n",
       "lin_num              3\n",
       "lin_ima              0\n",
       "rec_com_id     3466259\n",
       "rec_nam           1258\n",
       "rec_str1         19241\n",
       "rec_str2       2953957\n",
       "rec_cit          12894\n",
       "rec_sta          14312\n",
       "rec_zip          20760\n",
       "dis_dat            362\n",
       "dis_amo             70\n",
       "dis_pur_des      19394\n",
       "mem_cod        2680548\n",
       "mem_tex        2925816\n",
       "cat_cod        2234668\n",
       "cat_des        2237429\n",
       "tra_id               4\n",
       "bac_ref_id     3036665\n",
       "dis_amo_pos          0\n",
       "dis_amo_neg          0\n",
       "dtype: int64"
      ]
     },
     "execution_count": 9,
     "metadata": {},
     "output_type": "execute_result"
    }
   ],
   "source": [
    "## checking for null values\n",
    "\n",
    "data.isna().sum()"
   ]
  },
  {
   "cell_type": "code",
   "execution_count": 10,
   "metadata": {},
   "outputs": [],
   "source": [
    "## replacing null values\n",
    "data.dropna(subset=['dis_dat'], how='all', inplace = True)"
   ]
  },
  {
   "cell_type": "code",
   "execution_count": 11,
   "metadata": {},
   "outputs": [],
   "source": [
    "## filling missing values with mean\n",
    "data['dis_amo'].fillna(data['dis_amo'].mean(), inplace=True)"
   ]
  },
  {
   "cell_type": "code",
   "execution_count": 12,
   "metadata": {},
   "outputs": [],
   "source": [
    "## dropping unwanted coloumns\n",
    "\n",
    "data.drop('rec_com_id',axis=1,inplace=True)\n",
    "data.drop('rec_str1',axis=1,inplace=True)\n",
    "data.drop('rec_str2',axis=1,inplace=True)\n",
    "data.drop('mem_cod',axis=1,inplace=True)\n",
    "data.drop('mem_tex',axis=1,inplace=True)\n",
    "data.drop('com_id',axis=1,inplace=True)\n",
    "data.drop('lin_ima',axis=1,inplace=True)\n",
    "data.drop('lin_num',axis=1,inplace=True)\n",
    "data.drop('bac_ref_id',axis=1,inplace=True)\n",
    "data.drop('tra_id',axis=1,inplace=True)\n",
    "data.drop('cat_cod',axis=1,inplace=True)"
   ]
  },
  {
   "cell_type": "code",
   "execution_count": 13,
   "metadata": {},
   "outputs": [],
   "source": [
    "#Impute missing categorical values :\n",
    "\n",
    "data['can_off_dis'].fillna('UNKNOWN', inplace=True)\n",
    "data['rec_sta'].fillna('UNKNOWN', inplace=True)\n",
    "data['rec_cit'].fillna('UNKNOWN', inplace=True)\n",
    "data['rec_zip'].fillna('UNKNOWN', inplace=True)\n",
    "data['dis_pur_des'].fillna('UNKNOWN', inplace=True)\n",
    "data['cat_des'].fillna('OTHERS', inplace=True)\n",
    "data['rec_nam'].fillna('UNKNOWN', inplace=True)"
   ]
  },
  {
   "cell_type": "code",
   "execution_count": 14,
   "metadata": {},
   "outputs": [
    {
     "data": {
      "text/plain": [
       "com_nam        False\n",
       "can_id         False\n",
       "can_nam        False\n",
       "ele_yea        False\n",
       "can_off        False\n",
       "can_off_sta    False\n",
       "can_off_dis    False\n",
       "rec_nam        False\n",
       "rec_cit        False\n",
       "rec_sta        False\n",
       "rec_zip        False\n",
       "dis_dat        False\n",
       "dis_amo        False\n",
       "dis_pur_des    False\n",
       "cat_des        False\n",
       "dis_amo_pos    False\n",
       "dis_amo_neg    False\n",
       "dtype: bool"
      ]
     },
     "execution_count": 14,
     "metadata": {},
     "output_type": "execute_result"
    }
   ],
   "source": [
    "## no null values now\n",
    "\n",
    "data.isna().any()"
   ]
  },
  {
   "cell_type": "code",
   "execution_count": 15,
   "metadata": {
    "scrolled": true
   },
   "outputs": [
    {
     "data": {
      "text/html": [
       "<div>\n",
       "<style scoped>\n",
       "    .dataframe tbody tr th:only-of-type {\n",
       "        vertical-align: middle;\n",
       "    }\n",
       "\n",
       "    .dataframe tbody tr th {\n",
       "        vertical-align: top;\n",
       "    }\n",
       "\n",
       "    .dataframe thead th {\n",
       "        text-align: right;\n",
       "    }\n",
       "</style>\n",
       "<table border=\"1\" class=\"dataframe\">\n",
       "  <thead>\n",
       "    <tr style=\"text-align: right;\">\n",
       "      <th></th>\n",
       "      <th>last_name</th>\n",
       "      <th>first_name</th>\n",
       "      <th>middle_name</th>\n",
       "      <th>suffix</th>\n",
       "      <th>nickname</th>\n",
       "      <th>full_name</th>\n",
       "      <th>birthday</th>\n",
       "      <th>gender</th>\n",
       "      <th>type</th>\n",
       "      <th>state</th>\n",
       "      <th>...</th>\n",
       "      <th>opensecrets_id</th>\n",
       "      <th>lis_id</th>\n",
       "      <th>fec_ids</th>\n",
       "      <th>cspan_id</th>\n",
       "      <th>govtrack_id</th>\n",
       "      <th>votesmart_id</th>\n",
       "      <th>ballotpedia_id</th>\n",
       "      <th>washington_post_id</th>\n",
       "      <th>icpsr_id</th>\n",
       "      <th>wikipedia_id</th>\n",
       "    </tr>\n",
       "  </thead>\n",
       "  <tbody>\n",
       "    <tr>\n",
       "      <td>0</td>\n",
       "      <td>Brown</td>\n",
       "      <td>Sherrod</td>\n",
       "      <td>NaN</td>\n",
       "      <td>NaN</td>\n",
       "      <td>NaN</td>\n",
       "      <td>Sherrod Brown</td>\n",
       "      <td>1952-11-09</td>\n",
       "      <td>M</td>\n",
       "      <td>sen</td>\n",
       "      <td>OH</td>\n",
       "      <td>...</td>\n",
       "      <td>N00003535</td>\n",
       "      <td>S307</td>\n",
       "      <td>H2OH13033,S6OH00163</td>\n",
       "      <td>5051.0</td>\n",
       "      <td>400050</td>\n",
       "      <td>27018.0</td>\n",
       "      <td>Sherrod Brown</td>\n",
       "      <td>NaN</td>\n",
       "      <td>29389.0</td>\n",
       "      <td>Sherrod Brown</td>\n",
       "    </tr>\n",
       "    <tr>\n",
       "      <td>1</td>\n",
       "      <td>Cantwell</td>\n",
       "      <td>Maria</td>\n",
       "      <td>NaN</td>\n",
       "      <td>NaN</td>\n",
       "      <td>NaN</td>\n",
       "      <td>Maria Cantwell</td>\n",
       "      <td>1958-10-13</td>\n",
       "      <td>F</td>\n",
       "      <td>sen</td>\n",
       "      <td>WA</td>\n",
       "      <td>...</td>\n",
       "      <td>N00007836</td>\n",
       "      <td>S275</td>\n",
       "      <td>S8WA00194,H2WA01054</td>\n",
       "      <td>26137.0</td>\n",
       "      <td>300018</td>\n",
       "      <td>27122.0</td>\n",
       "      <td>Maria Cantwell</td>\n",
       "      <td>NaN</td>\n",
       "      <td>39310.0</td>\n",
       "      <td>Maria Cantwell</td>\n",
       "    </tr>\n",
       "    <tr>\n",
       "      <td>2</td>\n",
       "      <td>Cardin</td>\n",
       "      <td>Benjamin</td>\n",
       "      <td>L.</td>\n",
       "      <td>NaN</td>\n",
       "      <td>NaN</td>\n",
       "      <td>Benjamin L. Cardin</td>\n",
       "      <td>1943-10-05</td>\n",
       "      <td>M</td>\n",
       "      <td>sen</td>\n",
       "      <td>MD</td>\n",
       "      <td>...</td>\n",
       "      <td>N00001955</td>\n",
       "      <td>S308</td>\n",
       "      <td>H6MD03177,S6MD03177</td>\n",
       "      <td>4004.0</td>\n",
       "      <td>400064</td>\n",
       "      <td>26888.0</td>\n",
       "      <td>Ben Cardin</td>\n",
       "      <td>NaN</td>\n",
       "      <td>15408.0</td>\n",
       "      <td>Ben Cardin</td>\n",
       "    </tr>\n",
       "    <tr>\n",
       "      <td>3</td>\n",
       "      <td>Carper</td>\n",
       "      <td>Thomas</td>\n",
       "      <td>Richard</td>\n",
       "      <td>NaN</td>\n",
       "      <td>NaN</td>\n",
       "      <td>Thomas R. Carper</td>\n",
       "      <td>1947-01-23</td>\n",
       "      <td>M</td>\n",
       "      <td>sen</td>\n",
       "      <td>DE</td>\n",
       "      <td>...</td>\n",
       "      <td>N00012508</td>\n",
       "      <td>S277</td>\n",
       "      <td>S8DE00079</td>\n",
       "      <td>663.0</td>\n",
       "      <td>300019</td>\n",
       "      <td>22421.0</td>\n",
       "      <td>Tom Carper</td>\n",
       "      <td>NaN</td>\n",
       "      <td>15015.0</td>\n",
       "      <td>Tom Carper</td>\n",
       "    </tr>\n",
       "    <tr>\n",
       "      <td>4</td>\n",
       "      <td>Casey</td>\n",
       "      <td>Robert</td>\n",
       "      <td>P.</td>\n",
       "      <td>Jr.</td>\n",
       "      <td>Bob</td>\n",
       "      <td>Robert P. Casey, Jr.</td>\n",
       "      <td>1960-04-13</td>\n",
       "      <td>M</td>\n",
       "      <td>sen</td>\n",
       "      <td>PA</td>\n",
       "      <td>...</td>\n",
       "      <td>N00027503</td>\n",
       "      <td>S309</td>\n",
       "      <td>S6PA00217</td>\n",
       "      <td>47036.0</td>\n",
       "      <td>412246</td>\n",
       "      <td>2541.0</td>\n",
       "      <td>Bob Casey, Jr.</td>\n",
       "      <td>NaN</td>\n",
       "      <td>40703.0</td>\n",
       "      <td>Bob Casey Jr.</td>\n",
       "    </tr>\n",
       "  </tbody>\n",
       "</table>\n",
       "<p>5 rows × 34 columns</p>\n",
       "</div>"
      ],
      "text/plain": [
       "  last_name first_name middle_name suffix nickname             full_name  \\\n",
       "0     Brown    Sherrod         NaN    NaN      NaN         Sherrod Brown   \n",
       "1  Cantwell      Maria         NaN    NaN      NaN        Maria Cantwell   \n",
       "2    Cardin   Benjamin          L.    NaN      NaN    Benjamin L. Cardin   \n",
       "3    Carper     Thomas     Richard    NaN      NaN      Thomas R. Carper   \n",
       "4     Casey     Robert          P.    Jr.      Bob  Robert P. Casey, Jr.   \n",
       "\n",
       "     birthday gender type state  ...  opensecrets_id  lis_id  \\\n",
       "0  1952-11-09      M  sen    OH  ...       N00003535    S307   \n",
       "1  1958-10-13      F  sen    WA  ...       N00007836    S275   \n",
       "2  1943-10-05      M  sen    MD  ...       N00001955    S308   \n",
       "3  1947-01-23      M  sen    DE  ...       N00012508    S277   \n",
       "4  1960-04-13      M  sen    PA  ...       N00027503    S309   \n",
       "\n",
       "               fec_ids cspan_id govtrack_id votesmart_id  ballotpedia_id  \\\n",
       "0  H2OH13033,S6OH00163   5051.0      400050      27018.0   Sherrod Brown   \n",
       "1  S8WA00194,H2WA01054  26137.0      300018      27122.0  Maria Cantwell   \n",
       "2  H6MD03177,S6MD03177   4004.0      400064      26888.0      Ben Cardin   \n",
       "3            S8DE00079    663.0      300019      22421.0      Tom Carper   \n",
       "4            S6PA00217  47036.0      412246       2541.0  Bob Casey, Jr.   \n",
       "\n",
       "  washington_post_id icpsr_id    wikipedia_id  \n",
       "0                NaN  29389.0   Sherrod Brown  \n",
       "1                NaN  39310.0  Maria Cantwell  \n",
       "2                NaN  15408.0      Ben Cardin  \n",
       "3                NaN  15015.0      Tom Carper  \n",
       "4                NaN  40703.0   Bob Casey Jr.  \n",
       "\n",
       "[5 rows x 34 columns]"
      ]
     },
     "execution_count": 15,
     "metadata": {},
     "output_type": "execute_result"
    }
   ],
   "source": [
    "##importing a dataset of current legislatures to see if they won the election\n",
    "\n",
    "df_legislator_current=pd.read_csv('legislators-current.csv')\n",
    "df_legislator_current.head()\n"
   ]
  },
  {
   "cell_type": "code",
   "execution_count": 16,
   "metadata": {},
   "outputs": [],
   "source": [
    "## making a new column in existing dataset towards the candidate ID\n",
    "\n",
    "current_legislator_fec_ids = list(df_legislator_current.fec_ids)\n",
    "data['win'] = data.apply(lambda x: (1 if x.can_id in current_legislator_fec_ids else 0),axis=1)"
   ]
  },
  {
   "cell_type": "code",
   "execution_count": 17,
   "metadata": {},
   "outputs": [
    {
     "data": {
      "text/plain": [
       "Index(['com_nam', 'can_id', 'can_nam', 'ele_yea', 'can_off', 'can_off_sta',\n",
       "       'can_off_dis', 'rec_nam', 'rec_cit', 'rec_sta', 'rec_zip', 'dis_dat',\n",
       "       'dis_amo', 'dis_pur_des', 'cat_des', 'dis_amo_pos', 'dis_amo_neg',\n",
       "       'win'],\n",
       "      dtype='object')"
      ]
     },
     "execution_count": 17,
     "metadata": {},
     "output_type": "execute_result"
    }
   ],
   "source": [
    "data.columns"
   ]
  },
  {
   "cell_type": "markdown",
   "metadata": {},
   "source": [
    "# Preliminary Analysis\n",
    "\n",
    "Now we move on to the analysis part of the project , We first perform some data exploration to find any outlying trends in the data"
   ]
  },
  {
   "cell_type": "markdown",
   "metadata": {},
   "source": [
    "## Finding a general trend of spending over the years\n",
    "\n",
    "From this trend we see that the spending has increased significantly from 2014 to 2018 .\n",
    "\n",
    "\n",
    "Our Guess: We might be wrong but we attributed this to President Trump assuming Office in 2016. Talking about politics being a money game-President Trump is one of the wealthiest people to assume the office of president.He was a businessman prior to getting into politics and we read multiple articles outlining his spending in advertising during his election campaign.\n",
    "It is our assumption that this trend continued while in office.\n",
    "This trend is also upward due to economic factors such as inflation."
   ]
  },
  {
   "cell_type": "code",
   "execution_count": 18,
   "metadata": {},
   "outputs": [],
   "source": [
    "## importing dependencies\n",
    "\n",
    "import matplotlib as mpl\n",
    "import seaborn as sns\n",
    "import matplotlib.pyplot as plt\n",
    "%matplotlib inline"
   ]
  },
  {
   "cell_type": "code",
   "execution_count": 19,
   "metadata": {},
   "outputs": [
    {
     "data": {
      "text/plain": [
       "(0, 4000000000)"
      ]
     },
     "execution_count": 19,
     "metadata": {},
     "output_type": "execute_result"
    },
    {
     "data": {
      "text/plain": [
       "Text(0, 0.5, 'Total amount spent in $')"
      ]
     },
     "execution_count": 19,
     "metadata": {},
     "output_type": "execute_result"
    },
    {
     "data": {
      "text/plain": [
       "Text(0.5, 0, 'Election year')"
      ]
     },
     "execution_count": 19,
     "metadata": {},
     "output_type": "execute_result"
    },
    {
     "data": {
      "text/plain": [
       "Text(0.5, 1.0, 'YoY trend for the Disbursement amount')"
      ]
     },
     "execution_count": 19,
     "metadata": {},
     "output_type": "execute_result"
    },
    {
     "data": {
      "image/png": "[encoded data removed]",
      "text/plain": [
       "<Figure size 1080x360 with 1 Axes>"
      ]
     },
     "metadata": {},
     "output_type": "display_data"
    }
   ],
   "source": [
    "## Here is a preliminary analysis of where the spending trend is heading\n",
    "## Grouping the elction year column and sum the disbursement amount\n",
    "\n",
    "a = pd.DataFrame(data.groupby(['ele_yea'],as_index=False).dis_amo.sum())\n",
    "\n",
    "# Figure settings\n",
    "mpl.rc(\"figure\", figsize=(15, 5))\n",
    "sns.set_style(\"darkgrid\")\n",
    "\n",
    "# Graph plot and graph settings\n",
    "graph1 = sns.pointplot(x=\"ele_yea\", y=\"dis_amo\", data=a)\n",
    "graph1.set_ylim(0,4000000000)\n",
    "graph1.set_ylabel('Total amount spent in $',size=15)\n",
    "graph1.set_xlabel('Election year',size=15)\n",
    "graph1.set_title('YoY trend for the Disbursement amount',size=20)\n"
   ]
  },
  {
   "cell_type": "markdown",
   "metadata": {},
   "source": [
    "## Plotting the month wise disbursement amount for each year\n",
    "\n",
    "We wanted to see what month has the maximum expenditure. \n",
    "There is a clear seasonal trend seen in the data over years. The disbursement amount is at the peak in the month of october every two years.\n",
    "\n",
    "Explaination:Since the elections are held in the month of november, the expenditure could be maximum in the previous month. \n"
   ]
  },
  {
   "cell_type": "code",
   "execution_count": 20,
   "metadata": {},
   "outputs": [],
   "source": [
    "## extracting month from year data\n",
    "\n",
    "data['year_rec'] = pd.to_numeric(data.dis_dat.str[0:4])\n",
    "data1 = data[(data['year_rec'] >= 2012) & (data['year_rec'] <= 2018)]\n",
    "data1['month_rec'] = pd.DatetimeIndex(data1['dis_dat']).month"
   ]
  },
  {
   "cell_type": "code",
   "execution_count": 21,
   "metadata": {},
   "outputs": [
    {
     "data": {
      "text/plain": [
       "Text(0, 0.5, 'Total amount spent in $')"
      ]
     },
     "execution_count": 21,
     "metadata": {},
     "output_type": "execute_result"
    },
    {
     "data": {
      "text/plain": [
       "Text(0.5, 0, 'Jan 2012 - Dec 2018')"
      ]
     },
     "execution_count": 21,
     "metadata": {},
     "output_type": "execute_result"
    },
    {
     "data": {
      "text/plain": [
       "Text(0.5, 1.0, 'Total amount spent every month ')"
      ]
     },
     "execution_count": 21,
     "metadata": {},
     "output_type": "execute_result"
    },
    {
     "data": {
      "text/plain": [
       "<Figure size 1080x360 with 0 Axes>"
      ]
     },
     "metadata": {},
     "output_type": "display_data"
    },
    {
     "data": {
      "image/png": "[encoded data removed]",
      "text/plain": [
       "<Figure size 1080x360 with 1 Axes>"
      ]
     },
     "metadata": {},
     "output_type": "display_data"
    }
   ],
   "source": [
    "\n",
    "# grouping the amount spent by the year and month of recieved date\n",
    "g = pd.DataFrame(data1.groupby(['year_rec','month_rec']).dis_amo.sum())\n",
    "\n",
    "# Graph and graph settings\n",
    "fig = plt.figure()\n",
    "graph2 = g.plot(kind='bar',figsize=(15,5),color='b')\n",
    "\n",
    "graph2.set_ylabel('Total amount spent in $',size=15)\n",
    "graph2.set_xlabel('Jan 2012 - Dec 2018',size=15)\n",
    "graph2.set_title('Total amount spent every month ',size=20)"
   ]
  },
  {
   "cell_type": "markdown",
   "metadata": {},
   "source": [
    "# Finding 1:\n",
    "\n",
    "## Finding what category was spent after the most\n",
    "\n",
    "From this we find that the maximum amount of expenditure is undocumented.Which is what we suspected as this is the case in our country as well.Politicians often make anonymous donations or monetary compensation support to corporations in exchange for their support during the election.\n",
    "The highest expenditure is spent for Administrative and Salary expenses which holds 42% of the expenses. \n",
    "The second and third major expenses are Advertising expenses(29%) and Solicitation & Fund raising expenses(10%)"
   ]
  },
  {
   "cell_type": "code",
   "execution_count": 22,
   "metadata": {},
   "outputs": [
    {
     "data": {
      "text/plain": [
       "Text(0, 0.5, 'Disbursement Category')"
      ]
     },
     "execution_count": 22,
     "metadata": {},
     "output_type": "execute_result"
    },
    {
     "data": {
      "text/plain": [
       "Text(0.5, 0, 'Total amount spent in $')"
      ]
     },
     "execution_count": 22,
     "metadata": {},
     "output_type": "execute_result"
    },
    {
     "data": {
      "text/plain": [
       "Text(0.5, 1.0, 'Total expenses spent for each Disbursement Category')"
      ]
     },
     "execution_count": 22,
     "metadata": {},
     "output_type": "execute_result"
    },
    {
     "data": {
      "image/png": "[encoded data removed]",
      "text/plain": [
       "<Figure size 1080x360 with 1 Axes>"
      ]
     },
     "metadata": {},
     "output_type": "display_data"
    }
   ],
   "source": [
    "\n",
    "# Aggregating the Total amount by category description level\n",
    "g = pd.DataFrame(data.groupby(['cat_des']).dis_amo.sum().sort_values())\n",
    "\n",
    "# Graph plot and graph settings\n",
    "graph3 = g.plot.barh(figsize=(15,5),color='b')\n",
    "\n",
    "graph3.set_ylabel('Disbursement Category',size=15)\n",
    "graph3.set_xlabel('Total amount spent in $',size=15)\n",
    "graph3.set_title('Total expenses spent for each Disbursement Category',size=20)"
   ]
  },
  {
   "cell_type": "markdown",
   "metadata": {},
   "source": [
    "\n",
    "## Where the Money is going \n",
    "\n",
    "Following the information we recieved from the graph above,we aim to see what companies/Recipients recieve the money to actually see wether it is going into advertising\n",
    "\n",
    "20% of the total expenses in four years are recieved by the top 30 companies mentioned in the graph.\n",
    "Most of the top 30 companies are related to Media group or political consultancies.\n",
    "This graph goes along with our original thought that candidates spend a lot of money on advertising . This goes with our original assumption that candidates spend heavily on advertising their campaigns.This will directly affect the outreach of the candidate.\n",
    "According to us:More money will be directly proportional to increased outreach.\n"
   ]
  },
  {
   "cell_type": "code",
   "execution_count": 27,
   "metadata": {},
   "outputs": [
    {
     "data": {
      "text/plain": [
       "Text(0, 0.5, 'Total amount spent in $')"
      ]
     },
     "execution_count": 27,
     "metadata": {},
     "output_type": "execute_result"
    },
    {
     "data": {
      "text/plain": [
       "Text(0.5, 0, 'Organisations')"
      ]
     },
     "execution_count": 27,
     "metadata": {},
     "output_type": "execute_result"
    },
    {
     "data": {
      "text/plain": [
       "Text(0.5, 1.0, 'Total amount recieved by top 30 organisations')"
      ]
     },
     "execution_count": 27,
     "metadata": {},
     "output_type": "execute_result"
    },
    {
     "data": {
      "image/png": "[encoded data removed]",
      "text/plain": [
       "<Figure size 1080x360 with 1 Axes>"
      ]
     },
     "metadata": {},
     "output_type": "display_data"
    }
   ],
   "source": [
    "# Applying grup by function and plotting the graph\n",
    "graph4 = data.groupby(['rec_nam']).dis_amo.sum().sort_values(ascending=False).head(30).plot(kind='bar',figsize=(15,5),color='b')\n",
    "\n",
    "# Graph settings\n",
    "graph4.set_ylabel('Total amount spent in $',size=15)\n",
    "graph4.set_xlabel('Organisations',size=15)\n",
    "graph4.set_title('Total amount recieved by top 30 organisations',size=20)"
   ]
  },
  {
   "cell_type": "markdown",
   "metadata": {},
   "source": [
    "# Finding 2:\n",
    "\n",
    "## Statewise View\n",
    "\n",
    "Now we move on to a state wise approach.We take the states with the highest expenditure and compare where they spend their money.\n",
    "\n",
    "Explaination:\n",
    "Now we take a few states we think are important and analyse them .These are states which recieve some of the highest amounts.\n",
    "From here we find that The Advertising expenses are highest when compared to other expenses in Virginia. \n",
    "In DC, the political contributions is very high percentage when compared to other expenses.We figure this is because The political offices are in DC.\n",
    "After some study we found that Virginia’s campaign finance laws, some of the loosest in the country, place no restrictions on how much donors can give.This is why candidates can spend the most amount of this donations on advertising.\n",
    "\n",
    "Again we see that these important states also spend a significant amount in advertising\n"
   ]
  },
  {
   "cell_type": "code",
   "execution_count": 28,
   "metadata": {},
   "outputs": [
    {
     "data": {
      "text/html": [
       "<div>\n",
       "<style scoped>\n",
       "    .dataframe tbody tr th:only-of-type {\n",
       "        vertical-align: middle;\n",
       "    }\n",
       "\n",
       "    .dataframe tbody tr th {\n",
       "        vertical-align: top;\n",
       "    }\n",
       "\n",
       "    .dataframe thead th {\n",
       "        text-align: right;\n",
       "    }\n",
       "</style>\n",
       "<table border=\"1\" class=\"dataframe\">\n",
       "  <thead>\n",
       "    <tr style=\"text-align: right;\">\n",
       "      <th></th>\n",
       "      <th>can_off_sta</th>\n",
       "      <th>count</th>\n",
       "      <th>amount</th>\n",
       "    </tr>\n",
       "  </thead>\n",
       "  <tbody>\n",
       "    <tr>\n",
       "      <td>0</td>\n",
       "      <td>AK</td>\n",
       "      <td>21</td>\n",
       "      <td>3.754482e+07</td>\n",
       "    </tr>\n",
       "    <tr>\n",
       "      <td>1</td>\n",
       "      <td>AL</td>\n",
       "      <td>87</td>\n",
       "      <td>9.702028e+07</td>\n",
       "    </tr>\n",
       "    <tr>\n",
       "      <td>2</td>\n",
       "      <td>AR</td>\n",
       "      <td>41</td>\n",
       "      <td>6.459723e+07</td>\n",
       "    </tr>\n",
       "    <tr>\n",
       "      <td>3</td>\n",
       "      <td>AS</td>\n",
       "      <td>8</td>\n",
       "      <td>5.110165e+05</td>\n",
       "    </tr>\n",
       "    <tr>\n",
       "      <td>4</td>\n",
       "      <td>AZ</td>\n",
       "      <td>171</td>\n",
       "      <td>2.211452e+08</td>\n",
       "    </tr>\n",
       "  </tbody>\n",
       "</table>\n",
       "</div>"
      ],
      "text/plain": [
       "  can_off_sta  count        amount\n",
       "0          AK     21  3.754482e+07\n",
       "1          AL     87  9.702028e+07\n",
       "2          AR     41  6.459723e+07\n",
       "3          AS      8  5.110165e+05\n",
       "4          AZ    171  2.211452e+08"
      ]
     },
     "execution_count": 28,
     "metadata": {},
     "output_type": "execute_result"
    }
   ],
   "source": [
    "\n",
    "#calculating average spending statewise in a new data frame\n",
    "pieces= {'count' : data['can_nam'].groupby(data['can_off_sta']).nunique(),\n",
    "         'amount': data['dis_amo'].groupby(data['can_off_sta']).sum()}\n",
    "\n",
    "result = pd.concat(pieces, axis=1)\n",
    "\n",
    "new=result.reset_index()\n",
    "new.head()"
   ]
  },
  {
   "cell_type": "code",
   "execution_count": 36,
   "metadata": {},
   "outputs": [
    {
     "data": {
      "application/vnd.plotly.v1+json": {
       "config": {
        "linkText": "Export to plot.ly",
        "plotlyServerURL": "https://plot.ly",
        "showLink": false
       },
       "data": [
        {
         "autocolorscale": false,
         "colorbar": {
          "title": {
           "text": "Expenditure in USD"
          }
         },
         "colorscale": [
          [
           0,
           "#f7fbff"
          ],
          [
           0.0625,
           "#ebf3fb"
          ],
          [
           0.125,
           "#deebf7"
          ],
          [
           0.1875,
           "#d2e3f3"
          ],
          [
           0.25,
           "#c6dbef"
          ],
          [
           0.3125,
           "#b3d2e9"
          ],
          [
           0.375,
           "#9ecae1"
          ],
          [
           0.4375,
           "#85bcdb"
          ],
          [
           0.5,
           "#6baed6"
          ],
          [
           0.5625,
           "#57a0ce"
          ],
          [
           0.625,
           "#4292c6"
          ],
          [
           0.6875,
           "#3082be"
          ],
          [
           0.75,
           "#2171b5"
          ],
          [
           0.8125,
           "#1361a9"
          ],
          [
           0.875,
           "#08519c"
          ],
          [
           0.9375,
           "#0b4083"
          ],
          [
           1,
           "#08306b"
          ]
         ],
         "locationmode": "USA-states",
         "locations": [
          "AK",
          "AL",
          "AR",
          "AS",
          "AZ",
          "CA",
          "CO",
          "CT",
          "DC",
          "DE",
          "FL",
          "GA",
          "GU",
          "HI",
          "IA",
          "ID",
          "IL",
          "IN",
          "KS",
          "KY",
          "LA",
          "MA",
          "MD",
          "ME",
          "MI",
          "MN",
          "MO",
          "MP",
          "MS",
          "MT",
          "NC",
          "ND",
          "NE",
          "NH",
          "NJ",
          "NM",
          "NV",
          "NY",
          "OH",
          "OK",
          "OR",
          "PA",
          "PR",
          "RI",
          "SC",
          "SD",
          "TN",
          "TX",
          "US",
          "UT",
          "VA",
          "VI",
          "VT",
          "WA",
          "WI",
          "WV",
          "WY"
         ],
         "marker": {
          "line": {
           "color": "rgb(255,255,255)",
           "width": 2
          }
         },
         "text": [
          "AK<br>No. of cand.: 21",
          "AL<br>No. of cand.: 87",
          "AR<br>No. of cand.: 41",
          "AS<br>No. of cand.: 8",
          "AZ<br>No. of cand.: 171",
          "CA<br>No. of cand.: 621",
          "CO<br>No. of cand.: 103",
          "CT<br>No. of cand.: 70",
          "DC<br>No. of cand.: 6",
          "DE<br>No. of cand.: 22",
          "FL<br>No. of cand.: 418",
          "GA<br>No. of cand.: 169",
          "GU<br>No. of cand.: 9",
          "HI<br>No. of cand.: 32",
          "IA<br>No. of cand.: 71",
          "ID<br>No. of cand.: 31",
          "IL<br>No. of cand.: 206",
          "IN<br>No. of cand.: 133",
          "KS<br>No. of cand.: 60",
          "KY<br>No. of cand.: 54",
          "LA<br>No. of cand.: 92",
          "MA<br>No. of cand.: 109",
          "MD<br>No. of cand.: 131",
          "ME<br>No. of cand.: 41",
          "MI<br>No. of cand.: 177",
          "MN<br>No. of cand.: 132",
          "MO<br>No. of cand.: 93",
          "MP<br>No. of cand.: 4",
          "MS<br>No. of cand.: 56",
          "MT<br>No. of cand.: 44",
          "NC<br>No. of cand.: 211",
          "ND<br>No. of cand.: 23",
          "NE<br>No. of cand.: 45",
          "NH<br>No. of cand.: 41",
          "NJ<br>No. of cand.: 148",
          "NM<br>No. of cand.: 61",
          "NV<br>No. of cand.: 84",
          "NY<br>No. of cand.: 286",
          "OH<br>No. of cand.: 163",
          "OK<br>No. of cand.: 70",
          "OR<br>No. of cand.: 56",
          "PA<br>No. of cand.: 241",
          "PR<br>No. of cand.: 10",
          "RI<br>No. of cand.: 24",
          "SC<br>No. of cand.: 112",
          "SD<br>No. of cand.: 21",
          "TN<br>No. of cand.: 119",
          "TX<br>No. of cand.: 478",
          "US<br>No. of cand.: 13",
          "UT<br>No. of cand.: 76",
          "VA<br>No. of cand.: 186",
          "VI<br>No. of cand.: 9",
          "VT<br>No. of cand.: 11",
          "WA<br>No. of cand.: 126",
          "WI<br>No. of cand.: 90",
          "WV<br>No. of cand.: 59",
          "WY<br>No. of cand.: 21"
         ],
         "type": "choropleth",
         "z": [
          37544824.590000175,
          97020279.85,
          64597234.0375059,
          511016.4600000001,
          221145193.23999617,
          767701561.3238009,
          172971772.2400001,
          144186836.05375132,
          2009384.58,
          22006487.210000176,
          558662069.0487399,
          221424404.82000136,
          2213376.979999998,
          64246877.28750648,
          113113595.93000032,
          22068143.799999896,
          268862499.7199911,
          197145103.94750467,
          74800957.84000075,
          113738664.6199996,
          161369984.8299958,
          236359470.45000112,
          162791350.51375064,
          50650247.31999974,
          260006143.14998677,
          205513307.1587675,
          187215603.44375196,
          497348.95999999996,
          59868256.77999972,
          132016295.54000016,
          187802071.9900031,
          58398297.20375305,
          66039631.21000004,
          91011112.30000103,
          247980812.019998,
          75648045.05000006,
          153804295.30999848,
          428165707.5299791,
          326482707.08374476,
          57798905.18000077,
          68432431.38000034,
          344900618.0699971,
          4678368.600000002,
          31465055.919999816,
          85329178.66750708,
          28582647.24999992,
          142349862.0037518,
          565370660.3425177,
          13031751.539999984,
          72474277.92000102,
          229919811.91133726,
          1648995.67,
          17031891.32000003,
          142318169.8837563,
          244321420.7437417,
          74039710.06000018,
          21455072.359999977
         ]
        }
       ],
       "layout": {
        "geo": {
         "lakecolor": "rgb(255, 255, 255)",
         "projection": {
          "type": "albers usa"
         },
         "scope": "usa",
         "showlakes": true
        },
        "template": {
         "data": {
          "bar": [
           {
            "error_x": {
             "color": "#2a3f5f"
            },
            "error_y": {
             "color": "#2a3f5f"
            },
            "marker": {
             "line": {
              "color": "#E5ECF6",
              "width": 0.5
             }
            },
            "type": "bar"
           }
          ],
          "barpolar": [
           {
            "marker": {
             "line": {
              "color": "#E5ECF6",
              "width": 0.5
             }
            },
            "type": "barpolar"
           }
          ],
          "carpet": [
           {
            "aaxis": {
             "endlinecolor": "#2a3f5f",
             "gridcolor": "white",
             "linecolor": "white",
             "minorgridcolor": "white",
             "startlinecolor": "#2a3f5f"
            },
            "baxis": {
             "endlinecolor": "#2a3f5f",
             "gridcolor": "white",
             "linecolor": "white",
             "minorgridcolor": "white",
             "startlinecolor": "#2a3f5f"
            },
            "type": "carpet"
           }
          ],
          "choropleth": [
           {
            "colorbar": {
             "outlinewidth": 0,
             "ticks": ""
            },
            "type": "choropleth"
           }
          ],
          "contour": [
           {
            "colorbar": {
             "outlinewidth": 0,
             "ticks": ""
            },
            "colorscale": [
             [
              0,
              "#0d0887"
             ],
             [
              0.1111111111111111,
              "#46039f"
             ],
             [
              0.2222222222222222,
              "#7201a8"
             ],
             [
              0.3333333333333333,
              "#9c179e"
             ],
             [
              0.4444444444444444,
              "#bd3786"
             ],
             [
              0.5555555555555556,
              "#d8576b"
             ],
             [
              0.6666666666666666,
              "#ed7953"
             ],
             [
              0.7777777777777778,
              "#fb9f3a"
             ],
             [
              0.8888888888888888,
              "#fdca26"
             ],
             [
              1,
              "#f0f921"
             ]
            ],
            "type": "contour"
           }
          ],
          "contourcarpet": [
           {
            "colorbar": {
             "outlinewidth": 0,
             "ticks": ""
            },
            "type": "contourcarpet"
           }
          ],
          "heatmap": [
           {
            "colorbar": {
             "outlinewidth": 0,
             "ticks": ""
            },
            "colorscale": [
             [
              0,
              "#0d0887"
             ],
             [
              0.1111111111111111,
              "#46039f"
             ],
             [
              0.2222222222222222,
              "#7201a8"
             ],
             [
              0.3333333333333333,
              "#9c179e"
             ],
             [
              0.4444444444444444,
              "#bd3786"
             ],
             [
              0.5555555555555556,
              "#d8576b"
             ],
             [
              0.6666666666666666,
              "#ed7953"
             ],
             [
              0.7777777777777778,
              "#fb9f3a"
             ],
             [
              0.8888888888888888,
              "#fdca26"
             ],
             [
              1,
              "#f0f921"
             ]
            ],
            "type": "heatmap"
           }
          ],
          "heatmapgl": [
           {
            "colorbar": {
             "outlinewidth": 0,
             "ticks": ""
            },
            "colorscale": [
             [
              0,
              "#0d0887"
             ],
             [
              0.1111111111111111,
              "#46039f"
             ],
             [
              0.2222222222222222,
              "#7201a8"
             ],
             [
              0.3333333333333333,
              "#9c179e"
             ],
             [
              0.4444444444444444,
              "#bd3786"
             ],
             [
              0.5555555555555556,
              "#d8576b"
             ],
             [
              0.6666666666666666,
              "#ed7953"
             ],
             [
              0.7777777777777778,
              "#fb9f3a"
             ],
             [
              0.8888888888888888,
              "#fdca26"
             ],
             [
              1,
              "#f0f921"
             ]
            ],
            "type": "heatmapgl"
           }
          ],
          "histogram": [
           {
            "marker": {
             "colorbar": {
              "outlinewidth": 0,
              "ticks": ""
             }
            },
            "type": "histogram"
           }
          ],
          "histogram2d": [
           {
            "colorbar": {
             "outlinewidth": 0,
             "ticks": ""
            },
            "colorscale": [
             [
              0,
              "#0d0887"
             ],
             [
              0.1111111111111111,
              "#46039f"
             ],
             [
              0.2222222222222222,
              "#7201a8"
             ],
             [
              0.3333333333333333,
              "#9c179e"
             ],
             [
              0.4444444444444444,
              "#bd3786"
             ],
             [
              0.5555555555555556,
              "#d8576b"
             ],
             [
              0.6666666666666666,
              "#ed7953"
             ],
             [
              0.7777777777777778,
              "#fb9f3a"
             ],
             [
              0.8888888888888888,
              "#fdca26"
             ],
             [
              1,
              "#f0f921"
             ]
            ],
            "type": "histogram2d"
           }
          ],
          "histogram2dcontour": [
           {
            "colorbar": {
             "outlinewidth": 0,
             "ticks": ""
            },
            "colorscale": [
             [
              0,
              "#0d0887"
             ],
             [
              0.1111111111111111,
              "#46039f"
             ],
             [
              0.2222222222222222,
              "#7201a8"
             ],
             [
              0.3333333333333333,
              "#9c179e"
             ],
             [
              0.4444444444444444,
              "#bd3786"
             ],
             [
              0.5555555555555556,
              "#d8576b"
             ],
             [
              0.6666666666666666,
              "#ed7953"
             ],
             [
              0.7777777777777778,
              "#fb9f3a"
             ],
             [
              0.8888888888888888,
              "#fdca26"
             ],
             [
              1,
              "#f0f921"
             ]
            ],
            "type": "histogram2dcontour"
           }
          ],
          "mesh3d": [
           {
            "colorbar": {
             "outlinewidth": 0,
             "ticks": ""
            },
            "type": "mesh3d"
           }
          ],
          "parcoords": [
           {
            "line": {
             "colorbar": {
              "outlinewidth": 0,
              "ticks": ""
             }
            },
            "type": "parcoords"
           }
          ],
          "pie": [
           {
            "automargin": true,
            "type": "pie"
           }
          ],
          "scatter": [
           {
            "marker": {
             "colorbar": {
              "outlinewidth": 0,
              "ticks": ""
             }
            },
            "type": "scatter"
           }
          ],
          "scatter3d": [
           {
            "line": {
             "colorbar": {
              "outlinewidth": 0,
              "ticks": ""
             }
            },
            "marker": {
             "colorbar": {
              "outlinewidth": 0,
              "ticks": ""
             }
            },
            "type": "scatter3d"
           }
          ],
          "scattercarpet": [
           {
            "marker": {
             "colorbar": {
              "outlinewidth": 0,
              "ticks": ""
             }
            },
            "type": "scattercarpet"
           }
          ],
          "scattergeo": [
           {
            "marker": {
             "colorbar": {
              "outlinewidth": 0,
              "ticks": ""
             }
            },
            "type": "scattergeo"
           }
          ],
          "scattergl": [
           {
            "marker": {
             "colorbar": {
              "outlinewidth": 0,
              "ticks": ""
             }
            },
            "type": "scattergl"
           }
          ],
          "scattermapbox": [
           {
            "marker": {
             "colorbar": {
              "outlinewidth": 0,
              "ticks": ""
             }
            },
            "type": "scattermapbox"
           }
          ],
          "scatterpolar": [
           {
            "marker": {
             "colorbar": {
              "outlinewidth": 0,
              "ticks": ""
             }
            },
            "type": "scatterpolar"
           }
          ],
          "scatterpolargl": [
           {
            "marker": {
             "colorbar": {
              "outlinewidth": 0,
              "ticks": ""
             }
            },
            "type": "scatterpolargl"
           }
          ],
          "scatterternary": [
           {
            "marker": {
             "colorbar": {
              "outlinewidth": 0,
              "ticks": ""
             }
            },
            "type": "scatterternary"
           }
          ],
          "surface": [
           {
            "colorbar": {
             "outlinewidth": 0,
             "ticks": ""
            },
            "colorscale": [
             [
              0,
              "#0d0887"
             ],
             [
              0.1111111111111111,
              "#46039f"
             ],
             [
              0.2222222222222222,
              "#7201a8"
             ],
             [
              0.3333333333333333,
              "#9c179e"
             ],
             [
              0.4444444444444444,
              "#bd3786"
             ],
             [
              0.5555555555555556,
              "#d8576b"
             ],
             [
              0.6666666666666666,
              "#ed7953"
             ],
             [
              0.7777777777777778,
              "#fb9f3a"
             ],
             [
              0.8888888888888888,
              "#fdca26"
             ],
             [
              1,
              "#f0f921"
             ]
            ],
            "type": "surface"
           }
          ],
          "table": [
           {
            "cells": {
             "fill": {
              "color": "#EBF0F8"
             },
             "line": {
              "color": "white"
             }
            },
            "header": {
             "fill": {
              "color": "#C8D4E3"
             },
             "line": {
              "color": "white"
             }
            },
            "type": "table"
           }
          ]
         },
         "layout": {
          "annotationdefaults": {
           "arrowcolor": "#2a3f5f",
           "arrowhead": 0,
           "arrowwidth": 1
          },
          "coloraxis": {
           "colorbar": {
            "outlinewidth": 0,
            "ticks": ""
           }
          },
          "colorscale": {
           "diverging": [
            [
             0,
             "#8e0152"
            ],
            [
             0.1,
             "#c51b7d"
            ],
            [
             0.2,
             "#de77ae"
            ],
            [
             0.3,
             "#f1b6da"
            ],
            [
             0.4,
             "#fde0ef"
            ],
            [
             0.5,
             "#f7f7f7"
            ],
            [
             0.6,
             "#e6f5d0"
            ],
            [
             0.7,
             "#b8e186"
            ],
            [
             0.8,
             "#7fbc41"
            ],
            [
             0.9,
             "#4d9221"
            ],
            [
             1,
             "#276419"
            ]
           ],
           "sequential": [
            [
             0,
             "#0d0887"
            ],
            [
             0.1111111111111111,
             "#46039f"
            ],
            [
             0.2222222222222222,
             "#7201a8"
            ],
            [
             0.3333333333333333,
             "#9c179e"
            ],
            [
             0.4444444444444444,
             "#bd3786"
            ],
            [
             0.5555555555555556,
             "#d8576b"
            ],
            [
             0.6666666666666666,
             "#ed7953"
            ],
            [
             0.7777777777777778,
             "#fb9f3a"
            ],
            [
             0.8888888888888888,
             "#fdca26"
            ],
            [
             1,
             "#f0f921"
            ]
           ],
           "sequentialminus": [
            [
             0,
             "#0d0887"
            ],
            [
             0.1111111111111111,
             "#46039f"
            ],
            [
             0.2222222222222222,
             "#7201a8"
            ],
            [
             0.3333333333333333,
             "#9c179e"
            ],
            [
             0.4444444444444444,
             "#bd3786"
            ],
            [
             0.5555555555555556,
             "#d8576b"
            ],
            [
             0.6666666666666666,
             "#ed7953"
            ],
            [
             0.7777777777777778,
             "#fb9f3a"
            ],
            [
             0.8888888888888888,
             "#fdca26"
            ],
            [
             1,
             "#f0f921"
            ]
           ]
          },
          "colorway": [
           "#636efa",
           "#EF553B",
           "#00cc96",
           "#ab63fa",
           "#FFA15A",
           "#19d3f3",
           "#FF6692",
           "#B6E880",
           "#FF97FF",
           "#FECB52"
          ],
          "font": {
           "color": "#2a3f5f"
          },
          "geo": {
           "bgcolor": "white",
           "lakecolor": "white",
           "landcolor": "#E5ECF6",
           "showlakes": true,
           "showland": true,
           "subunitcolor": "white"
          },
          "hoverlabel": {
           "align": "left"
          },
          "hovermode": "closest",
          "mapbox": {
           "style": "light"
          },
          "paper_bgcolor": "white",
          "plot_bgcolor": "#E5ECF6",
          "polar": {
           "angularaxis": {
            "gridcolor": "white",
            "linecolor": "white",
            "ticks": ""
           },
           "bgcolor": "#E5ECF6",
           "radialaxis": {
            "gridcolor": "white",
            "linecolor": "white",
            "ticks": ""
           }
          },
          "scene": {
           "xaxis": {
            "backgroundcolor": "#E5ECF6",
            "gridcolor": "white",
            "gridwidth": 2,
            "linecolor": "white",
            "showbackground": true,
            "ticks": "",
            "zerolinecolor": "white"
           },
           "yaxis": {
            "backgroundcolor": "#E5ECF6",
            "gridcolor": "white",
            "gridwidth": 2,
            "linecolor": "white",
            "showbackground": true,
            "ticks": "",
            "zerolinecolor": "white"
           },
           "zaxis": {
            "backgroundcolor": "#E5ECF6",
            "gridcolor": "white",
            "gridwidth": 2,
            "linecolor": "white",
            "showbackground": true,
            "ticks": "",
            "zerolinecolor": "white"
           }
          },
          "shapedefaults": {
           "line": {
            "color": "#2a3f5f"
           }
          },
          "ternary": {
           "aaxis": {
            "gridcolor": "white",
            "linecolor": "white",
            "ticks": ""
           },
           "baxis": {
            "gridcolor": "white",
            "linecolor": "white",
            "ticks": ""
           },
           "bgcolor": "#E5ECF6",
           "caxis": {
            "gridcolor": "white",
            "linecolor": "white",
            "ticks": ""
           }
          },
          "title": {
           "x": 0.05
          },
          "xaxis": {
           "automargin": true,
           "gridcolor": "white",
           "linecolor": "white",
           "ticks": "",
           "title": {
            "standoff": 15
           },
           "zerolinecolor": "white",
           "zerolinewidth": 2
          },
          "yaxis": {
           "automargin": true,
           "gridcolor": "white",
           "linecolor": "white",
           "ticks": "",
           "title": {
            "standoff": 15
           },
           "zerolinecolor": "white",
           "zerolinewidth": 2
          }
         }
        },
        "title": {
         "text": "US Congressional Elections Average Expenditure by State from 2012 to 2018"
        }
       }
      },
      "text/html": [
       "<div>\n",
       "        \n",
       "        \n",
       "            <div id=\"34427d39-555e-481b-9fd8-2d15361eb138\" class=\"plotly-graph-div\" style=\"height:525px; width:100%;\"></div>\n",
       "            <script type=\"text/javascript\">\n",
       "                require([\"plotly\"], function(Plotly) {\n",
       "                    window.PLOTLYENV=window.PLOTLYENV || {};\n",
       "                    \n",
       "                if (document.getElementById(\"34427d39-555e-481b-9fd8-2d15361eb138\")) {\n",
       "                    Plotly.newPlot(\n",
       "                        '34427d39-555e-481b-9fd8-2d15361eb138',\n",
       "                        [{\"autocolorscale\": false, \"colorbar\": {\"title\": {\"text\": \"Expenditure in USD\"}}, \"colorscale\": [[0.0, \"#f7fbff\"], [0.0625, \"#ebf3fb\"], [0.125, \"#deebf7\"], [0.1875, \"#d2e3f3\"], [0.25, \"#c6dbef\"], [0.3125, \"#b3d2e9\"], [0.375, \"#9ecae1\"], [0.4375, \"#85bcdb\"], [0.5, \"#6baed6\"], [0.5625, \"#57a0ce\"], [0.625, \"#4292c6\"], [0.6875, \"#3082be\"], [0.75, \"#2171b5\"], [0.8125, \"#1361a9\"], [0.875, \"#08519c\"], [0.9375, \"#0b4083\"], [1.0, \"#08306b\"]], \"locationmode\": \"USA-states\", \"locations\": [\"AK\", \"AL\", \"AR\", \"AS\", \"AZ\", \"CA\", \"CO\", \"CT\", \"DC\", \"DE\", \"FL\", \"GA\", \"GU\", \"HI\", \"IA\", \"ID\", \"IL\", \"IN\", \"KS\", \"KY\", \"LA\", \"MA\", \"MD\", \"ME\", \"MI\", \"MN\", \"MO\", \"MP\", \"MS\", \"MT\", \"NC\", \"ND\", \"NE\", \"NH\", \"NJ\", \"NM\", \"NV\", \"NY\", \"OH\", \"OK\", \"OR\", \"PA\", \"PR\", \"RI\", \"SC\", \"SD\", \"TN\", \"TX\", \"US\", \"UT\", \"VA\", \"VI\", \"VT\", \"WA\", \"WI\", \"WV\", \"WY\"], \"marker\": {\"line\": {\"color\": \"rgb(255,255,255)\", \"width\": 2}}, \"text\": [\"AK<br>No. of cand.: 21\", \"AL<br>No. of cand.: 87\", \"AR<br>No. of cand.: 41\", \"AS<br>No. of cand.: 8\", \"AZ<br>No. of cand.: 171\", \"CA<br>No. of cand.: 621\", \"CO<br>No. of cand.: 103\", \"CT<br>No. of cand.: 70\", \"DC<br>No. of cand.: 6\", \"DE<br>No. of cand.: 22\", \"FL<br>No. of cand.: 418\", \"GA<br>No. of cand.: 169\", \"GU<br>No. of cand.: 9\", \"HI<br>No. of cand.: 32\", \"IA<br>No. of cand.: 71\", \"ID<br>No. of cand.: 31\", \"IL<br>No. of cand.: 206\", \"IN<br>No. of cand.: 133\", \"KS<br>No. of cand.: 60\", \"KY<br>No. of cand.: 54\", \"LA<br>No. of cand.: 92\", \"MA<br>No. of cand.: 109\", \"MD<br>No. of cand.: 131\", \"ME<br>No. of cand.: 41\", \"MI<br>No. of cand.: 177\", \"MN<br>No. of cand.: 132\", \"MO<br>No. of cand.: 93\", \"MP<br>No. of cand.: 4\", \"MS<br>No. of cand.: 56\", \"MT<br>No. of cand.: 44\", \"NC<br>No. of cand.: 211\", \"ND<br>No. of cand.: 23\", \"NE<br>No. of cand.: 45\", \"NH<br>No. of cand.: 41\", \"NJ<br>No. of cand.: 148\", \"NM<br>No. of cand.: 61\", \"NV<br>No. of cand.: 84\", \"NY<br>No. of cand.: 286\", \"OH<br>No. of cand.: 163\", \"OK<br>No. of cand.: 70\", \"OR<br>No. of cand.: 56\", \"PA<br>No. of cand.: 241\", \"PR<br>No. of cand.: 10\", \"RI<br>No. of cand.: 24\", \"SC<br>No. of cand.: 112\", \"SD<br>No. of cand.: 21\", \"TN<br>No. of cand.: 119\", \"TX<br>No. of cand.: 478\", \"US<br>No. of cand.: 13\", \"UT<br>No. of cand.: 76\", \"VA<br>No. of cand.: 186\", \"VI<br>No. of cand.: 9\", \"VT<br>No. of cand.: 11\", \"WA<br>No. of cand.: 126\", \"WI<br>No. of cand.: 90\", \"WV<br>No. of cand.: 59\", \"WY<br>No. of cand.: 21\"], \"type\": \"choropleth\", \"z\": [37544824.590000175, 97020279.85, 64597234.0375059, 511016.4600000001, 221145193.23999617, 767701561.3238009, 172971772.2400001, 144186836.05375132, 2009384.58, 22006487.210000176, 558662069.0487399, 221424404.82000136, 2213376.979999998, 64246877.28750648, 113113595.93000032, 22068143.799999896, 268862499.7199911, 197145103.94750467, 74800957.84000075, 113738664.6199996, 161369984.8299958, 236359470.45000112, 162791350.51375064, 50650247.31999974, 260006143.14998677, 205513307.1587675, 187215603.44375196, 497348.95999999996, 59868256.77999972, 132016295.54000016, 187802071.9900031, 58398297.20375305, 66039631.21000004, 91011112.30000103, 247980812.019998, 75648045.05000006, 153804295.30999848, 428165707.5299791, 326482707.08374476, 57798905.18000077, 68432431.38000034, 344900618.0699971, 4678368.600000002, 31465055.919999816, 85329178.66750708, 28582647.24999992, 142349862.0037518, 565370660.3425177, 13031751.539999984, 72474277.92000102, 229919811.91133726, 1648995.67, 17031891.32000003, 142318169.8837563, 244321420.7437417, 74039710.06000018, 21455072.359999977]}],\n",
       "                        {\"geo\": {\"lakecolor\": \"rgb(255, 255, 255)\", \"projection\": {\"type\": \"albers usa\"}, \"scope\": \"usa\", \"showlakes\": true}, \"template\": {\"data\": {\"bar\": [{\"error_x\": {\"color\": \"#2a3f5f\"}, \"error_y\": {\"color\": \"#2a3f5f\"}, \"marker\": {\"line\": {\"color\": \"#E5ECF6\", \"width\": 0.5}}, \"type\": \"bar\"}], \"barpolar\": [{\"marker\": {\"line\": {\"color\": \"#E5ECF6\", \"width\": 0.5}}, \"type\": \"barpolar\"}], \"carpet\": [{\"aaxis\": {\"endlinecolor\": \"#2a3f5f\", \"gridcolor\": \"white\", \"linecolor\": \"white\", \"minorgridcolor\": \"white\", \"startlinecolor\": \"#2a3f5f\"}, \"baxis\": {\"endlinecolor\": \"#2a3f5f\", \"gridcolor\": \"white\", \"linecolor\": \"white\", \"minorgridcolor\": \"white\", \"startlinecolor\": \"#2a3f5f\"}, \"type\": \"carpet\"}], \"choropleth\": [{\"colorbar\": {\"outlinewidth\": 0, \"ticks\": \"\"}, \"type\": \"choropleth\"}], \"contour\": [{\"colorbar\": {\"outlinewidth\": 0, \"ticks\": \"\"}, \"colorscale\": [[0.0, \"#0d0887\"], [0.1111111111111111, \"#46039f\"], [0.2222222222222222, \"#7201a8\"], [0.3333333333333333, \"#9c179e\"], [0.4444444444444444, \"#bd3786\"], [0.5555555555555556, \"#d8576b\"], [0.6666666666666666, \"#ed7953\"], [0.7777777777777778, \"#fb9f3a\"], [0.8888888888888888, \"#fdca26\"], [1.0, \"#f0f921\"]], \"type\": \"contour\"}], \"contourcarpet\": [{\"colorbar\": {\"outlinewidth\": 0, \"ticks\": \"\"}, \"type\": \"contourcarpet\"}], \"heatmap\": [{\"colorbar\": {\"outlinewidth\": 0, \"ticks\": \"\"}, \"colorscale\": [[0.0, \"#0d0887\"], [0.1111111111111111, \"#46039f\"], [0.2222222222222222, \"#7201a8\"], [0.3333333333333333, \"#9c179e\"], [0.4444444444444444, \"#bd3786\"], [0.5555555555555556, \"#d8576b\"], [0.6666666666666666, \"#ed7953\"], [0.7777777777777778, \"#fb9f3a\"], [0.8888888888888888, \"#fdca26\"], [1.0, \"#f0f921\"]], \"type\": \"heatmap\"}], \"heatmapgl\": [{\"colorbar\": {\"outlinewidth\": 0, \"ticks\": \"\"}, \"colorscale\": [[0.0, \"#0d0887\"], [0.1111111111111111, \"#46039f\"], [0.2222222222222222, \"#7201a8\"], [0.3333333333333333, \"#9c179e\"], [0.4444444444444444, \"#bd3786\"], [0.5555555555555556, \"#d8576b\"], [0.6666666666666666, \"#ed7953\"], [0.7777777777777778, \"#fb9f3a\"], [0.8888888888888888, \"#fdca26\"], [1.0, \"#f0f921\"]], \"type\": \"heatmapgl\"}], \"histogram\": [{\"marker\": {\"colorbar\": {\"outlinewidth\": 0, \"ticks\": \"\"}}, \"type\": \"histogram\"}], \"histogram2d\": [{\"colorbar\": {\"outlinewidth\": 0, \"ticks\": \"\"}, \"colorscale\": [[0.0, \"#0d0887\"], [0.1111111111111111, \"#46039f\"], [0.2222222222222222, \"#7201a8\"], [0.3333333333333333, \"#9c179e\"], [0.4444444444444444, \"#bd3786\"], [0.5555555555555556, \"#d8576b\"], [0.6666666666666666, \"#ed7953\"], [0.7777777777777778, \"#fb9f3a\"], [0.8888888888888888, \"#fdca26\"], [1.0, \"#f0f921\"]], \"type\": \"histogram2d\"}], \"histogram2dcontour\": [{\"colorbar\": {\"outlinewidth\": 0, \"ticks\": \"\"}, \"colorscale\": [[0.0, \"#0d0887\"], [0.1111111111111111, \"#46039f\"], [0.2222222222222222, \"#7201a8\"], [0.3333333333333333, \"#9c179e\"], [0.4444444444444444, \"#bd3786\"], [0.5555555555555556, \"#d8576b\"], [0.6666666666666666, \"#ed7953\"], [0.7777777777777778, \"#fb9f3a\"], [0.8888888888888888, \"#fdca26\"], [1.0, \"#f0f921\"]], \"type\": \"histogram2dcontour\"}], \"mesh3d\": [{\"colorbar\": {\"outlinewidth\": 0, \"ticks\": \"\"}, \"type\": \"mesh3d\"}], \"parcoords\": [{\"line\": {\"colorbar\": {\"outlinewidth\": 0, \"ticks\": \"\"}}, \"type\": \"parcoords\"}], \"pie\": [{\"automargin\": true, \"type\": \"pie\"}], \"scatter\": [{\"marker\": {\"colorbar\": {\"outlinewidth\": 0, \"ticks\": \"\"}}, \"type\": \"scatter\"}], \"scatter3d\": [{\"line\": {\"colorbar\": {\"outlinewidth\": 0, \"ticks\": \"\"}}, \"marker\": {\"colorbar\": {\"outlinewidth\": 0, \"ticks\": \"\"}}, \"type\": \"scatter3d\"}], \"scattercarpet\": [{\"marker\": {\"colorbar\": {\"outlinewidth\": 0, \"ticks\": \"\"}}, \"type\": \"scattercarpet\"}], \"scattergeo\": [{\"marker\": {\"colorbar\": {\"outlinewidth\": 0, \"ticks\": \"\"}}, \"type\": \"scattergeo\"}], \"scattergl\": [{\"marker\": {\"colorbar\": {\"outlinewidth\": 0, \"ticks\": \"\"}}, \"type\": \"scattergl\"}], \"scattermapbox\": [{\"marker\": {\"colorbar\": {\"outlinewidth\": 0, \"ticks\": \"\"}}, \"type\": \"scattermapbox\"}], \"scatterpolar\": [{\"marker\": {\"colorbar\": {\"outlinewidth\": 0, \"ticks\": \"\"}}, \"type\": \"scatterpolar\"}], \"scatterpolargl\": [{\"marker\": {\"colorbar\": {\"outlinewidth\": 0, \"ticks\": \"\"}}, \"type\": \"scatterpolargl\"}], \"scatterternary\": [{\"marker\": {\"colorbar\": {\"outlinewidth\": 0, \"ticks\": \"\"}}, \"type\": \"scatterternary\"}], \"surface\": [{\"colorbar\": {\"outlinewidth\": 0, \"ticks\": \"\"}, \"colorscale\": [[0.0, \"#0d0887\"], [0.1111111111111111, \"#46039f\"], [0.2222222222222222, \"#7201a8\"], [0.3333333333333333, \"#9c179e\"], [0.4444444444444444, \"#bd3786\"], [0.5555555555555556, \"#d8576b\"], [0.6666666666666666, \"#ed7953\"], [0.7777777777777778, \"#fb9f3a\"], [0.8888888888888888, \"#fdca26\"], [1.0, \"#f0f921\"]], \"type\": \"surface\"}], \"table\": [{\"cells\": {\"fill\": {\"color\": \"#EBF0F8\"}, \"line\": {\"color\": \"white\"}}, \"header\": {\"fill\": {\"color\": \"#C8D4E3\"}, \"line\": {\"color\": \"white\"}}, \"type\": \"table\"}]}, \"layout\": {\"annotationdefaults\": {\"arrowcolor\": \"#2a3f5f\", \"arrowhead\": 0, \"arrowwidth\": 1}, \"coloraxis\": {\"colorbar\": {\"outlinewidth\": 0, \"ticks\": \"\"}}, \"colorscale\": {\"diverging\": [[0, \"#8e0152\"], [0.1, \"#c51b7d\"], [0.2, \"#de77ae\"], [0.3, \"#f1b6da\"], [0.4, \"#fde0ef\"], [0.5, \"#f7f7f7\"], [0.6, \"#e6f5d0\"], [0.7, \"#b8e186\"], [0.8, \"#7fbc41\"], [0.9, \"#4d9221\"], [1, \"#276419\"]], \"sequential\": [[0.0, \"#0d0887\"], [0.1111111111111111, \"#46039f\"], [0.2222222222222222, \"#7201a8\"], [0.3333333333333333, \"#9c179e\"], [0.4444444444444444, \"#bd3786\"], [0.5555555555555556, \"#d8576b\"], [0.6666666666666666, \"#ed7953\"], [0.7777777777777778, \"#fb9f3a\"], [0.8888888888888888, \"#fdca26\"], [1.0, \"#f0f921\"]], \"sequentialminus\": [[0.0, \"#0d0887\"], [0.1111111111111111, \"#46039f\"], [0.2222222222222222, \"#7201a8\"], [0.3333333333333333, \"#9c179e\"], [0.4444444444444444, \"#bd3786\"], [0.5555555555555556, \"#d8576b\"], [0.6666666666666666, \"#ed7953\"], [0.7777777777777778, \"#fb9f3a\"], [0.8888888888888888, \"#fdca26\"], [1.0, \"#f0f921\"]]}, \"colorway\": [\"#636efa\", \"#EF553B\", \"#00cc96\", \"#ab63fa\", \"#FFA15A\", \"#19d3f3\", \"#FF6692\", \"#B6E880\", \"#FF97FF\", \"#FECB52\"], \"font\": {\"color\": \"#2a3f5f\"}, \"geo\": {\"bgcolor\": \"white\", \"lakecolor\": \"white\", \"landcolor\": \"#E5ECF6\", \"showlakes\": true, \"showland\": true, \"subunitcolor\": \"white\"}, \"hoverlabel\": {\"align\": \"left\"}, \"hovermode\": \"closest\", \"mapbox\": {\"style\": \"light\"}, \"paper_bgcolor\": \"white\", \"plot_bgcolor\": \"#E5ECF6\", \"polar\": {\"angularaxis\": {\"gridcolor\": \"white\", \"linecolor\": \"white\", \"ticks\": \"\"}, \"bgcolor\": \"#E5ECF6\", \"radialaxis\": {\"gridcolor\": \"white\", \"linecolor\": \"white\", \"ticks\": \"\"}}, \"scene\": {\"xaxis\": {\"backgroundcolor\": \"#E5ECF6\", \"gridcolor\": \"white\", \"gridwidth\": 2, \"linecolor\": \"white\", \"showbackground\": true, \"ticks\": \"\", \"zerolinecolor\": \"white\"}, \"yaxis\": {\"backgroundcolor\": \"#E5ECF6\", \"gridcolor\": \"white\", \"gridwidth\": 2, \"linecolor\": \"white\", \"showbackground\": true, \"ticks\": \"\", \"zerolinecolor\": \"white\"}, \"zaxis\": {\"backgroundcolor\": \"#E5ECF6\", \"gridcolor\": \"white\", \"gridwidth\": 2, \"linecolor\": \"white\", \"showbackground\": true, \"ticks\": \"\", \"zerolinecolor\": \"white\"}}, \"shapedefaults\": {\"line\": {\"color\": \"#2a3f5f\"}}, \"ternary\": {\"aaxis\": {\"gridcolor\": \"white\", \"linecolor\": \"white\", \"ticks\": \"\"}, \"baxis\": {\"gridcolor\": \"white\", \"linecolor\": \"white\", \"ticks\": \"\"}, \"bgcolor\": \"#E5ECF6\", \"caxis\": {\"gridcolor\": \"white\", \"linecolor\": \"white\", \"ticks\": \"\"}}, \"title\": {\"x\": 0.05}, \"xaxis\": {\"automargin\": true, \"gridcolor\": \"white\", \"linecolor\": \"white\", \"ticks\": \"\", \"title\": {\"standoff\": 15}, \"zerolinecolor\": \"white\", \"zerolinewidth\": 2}, \"yaxis\": {\"automargin\": true, \"gridcolor\": \"white\", \"linecolor\": \"white\", \"ticks\": \"\", \"title\": {\"standoff\": 15}, \"zerolinecolor\": \"white\", \"zerolinewidth\": 2}}}, \"title\": {\"text\": \"US Congressional Elections Average Expenditure by State from 2012 to 2018\"}},\n",
       "                        {\"responsive\": true}\n",
       "                    ).then(function(){\n",
       "                            \n",
       "var gd = document.getElementById('34427d39-555e-481b-9fd8-2d15361eb138');\n",
       "var x = new MutationObserver(function (mutations, observer) {{\n",
       "        var display = window.getComputedStyle(gd).display;\n",
       "        if (!display || display === 'none') {{\n",
       "            console.log([gd, 'removed!']);\n",
       "            Plotly.purge(gd);\n",
       "            observer.disconnect();\n",
       "        }}\n",
       "}});\n",
       "\n",
       "// Listen for the removal of the full notebook cells\n",
       "var notebookContainer = gd.closest('#notebook-container');\n",
       "if (notebookContainer) {{\n",
       "    x.observe(notebookContainer, {childList: true});\n",
       "}}\n",
       "\n",
       "// Listen for the clearing of the current output cell\n",
       "var outputEl = gd.closest('.output');\n",
       "if (outputEl) {{\n",
       "    x.observe(outputEl, {childList: true});\n",
       "}}\n",
       "\n",
       "                        })\n",
       "                };\n",
       "                });\n",
       "            </script>\n",
       "        </div>"
      ]
     },
     "metadata": {},
     "output_type": "display_data"
    }
   ],
   "source": [
    "#converting to string\n",
    "for col in new.columns:\n",
    "    new[col] = new[col].astype(str)\n",
    "    \n",
    "#defining colour scale (We learned this from stackoverflow)\n",
    "\n",
    "\n",
    "scl = [\"#f7fbff\", \"#ebf3fb\", \"#deebf7\", \"#d2e3f3\", \"#c6dbef\", \"#b3d2e9\", \"#9ecae1\",\n",
    "    \"#85bcdb\", \"#6baed6\", \"#57a0ce\", \"#4292c6\", \"#3082be\", \"#2171b5\", \"#1361a9\",\n",
    "    \"#08519c\", \"#0b4083\", \"#08306b\"\n",
    "]\n",
    "\n",
    "#creating text on hover(We learned this from kaggle)\n",
    "new['text'] = new['can_off_sta'] + '<br>' +\\\n",
    "    'No. of cand.: '+ new['count']\n",
    "    \n",
    "#plotting data    \n",
    "data2 = [ dict(\n",
    "        type='choropleth',\n",
    "        colorscale = scl,\n",
    "        autocolorscale = False,\n",
    "        locations = new['can_off_sta'],\n",
    "        z = new['amount'].astype(float),\n",
    "        locationmode = 'USA-states',\n",
    "        text = new['text'],\n",
    "        marker = dict(\n",
    "            line = dict (\n",
    "                color = 'rgb(255,255,255)',\n",
    "                \n",
    "                width = 2\n",
    "            ) ),\n",
    "        colorbar = dict(\n",
    "            title = \"Expenditure in USD\")\n",
    "        ) ]\n",
    "\n",
    "#defining plot properties\n",
    "layout = dict(\n",
    "        title = 'US Congressional Elections Average Expenditure by State from 2012 to 2018',\n",
    "        geo = dict(\n",
    "            scope='usa',\n",
    "            projection=dict( type='albers usa' ),\n",
    "            showlakes = True,\n",
    "            lakecolor = 'rgb(255, 255, 255)'),\n",
    "             )\n",
    "    \n",
    "fig = dict( data=data2, layout=layout )\n",
    "\n",
    "#plotting boxplot\n",
    "plotly.offline.iplot(fig)"
   ]
  },
  {
   "cell_type": "code",
   "execution_count": 38,
   "metadata": {},
   "outputs": [
    {
     "data": {
      "text/plain": [
       "(0, 600000000)"
      ]
     },
     "execution_count": 38,
     "metadata": {},
     "output_type": "execute_result"
    },
    {
     "data": {
      "text/plain": [
       "Text(0, 0.5, 'State')"
      ]
     },
     "execution_count": 38,
     "metadata": {},
     "output_type": "execute_result"
    },
    {
     "data": {
      "text/plain": [
       "Text(0.5, 0, 'Total amount spent in $ (stack by Disbursement Category)')"
      ]
     },
     "execution_count": 38,
     "metadata": {},
     "output_type": "execute_result"
    },
    {
     "data": {
      "text/plain": [
       "Text(0.5, 1.0, 'Total expenses from 2012 to 2018 by each Disbursement Category')"
      ]
     },
     "execution_count": 38,
     "metadata": {},
     "output_type": "execute_result"
    },
    {
     "data": {
      "image/png": "[encoded data removed]",
      "text/plain": [
       "<Figure size 1440x720 with 1 Axes>"
      ]
     },
     "metadata": {},
     "output_type": "display_data"
    }
   ],
   "source": [
    "#california :55 electoral votes and highest spending\n",
    "#DC: office\n",
    "#Texas :Important swing state for elections\n",
    "\n",
    "# Aggregated data by state recieved and  category descrption\n",
    "data_sta_sum = pd.DataFrame(data.groupby(['cat_des','rec_sta'],as_index=False).dis_amo.sum())\n",
    "\n",
    "# Subsetting the aggregated data for DC, VA and CA\n",
    "data_DC = data_sta_sum.loc[data_sta_sum['rec_sta'].isin([\"DC\",\"VA\",\"CA\"])]\n",
    "\n",
    "# Data is transposed for stack chart\n",
    "df1 = data_DC.pivot(index='rec_sta', columns='cat_des', values='dis_amo')\n",
    "\n",
    "# Graph plot and graph settings\n",
    "graph8 = df1.plot.barh(stacked=True,figsize=(20,10))\n",
    "\n",
    "graph8.set_xlim(0,600000000)\n",
    "graph8.set_ylabel('State',size=15)\n",
    "graph8.set_xlabel('Total amount spent in $ (stack by Disbursement Category)',size=15)\n",
    "graph8.set_title('Total expenses from 2012 to 2018 by each Disbursement Category',size=20)"
   ]
  },
  {
   "cell_type": "markdown",
   "metadata": {},
   "source": [
    "# Finding 3 :\n",
    "\n",
    "## Creating Machine Learning Models\n",
    "\n",
    "Now we train various models on the dataset to see wether we can predict if the Candidate won an election based on their spending."
   ]
  },
  {
   "cell_type": "code",
   "execution_count": 32,
   "metadata": {},
   "outputs": [],
   "source": [
    "## importing dependencies\n",
    "\n",
    "from sklearn.svm import SVC, LinearSVC\n",
    "from sklearn.neighbors import KNeighborsClassifier\n",
    "from sklearn.naive_bayes import GaussianNB\n",
    "from sklearn.linear_model import SGDClassifier\n",
    "from sklearn.linear_model import LogisticRegression\n"
   ]
  },
  {
   "cell_type": "code",
   "execution_count": 33,
   "metadata": {},
   "outputs": [],
   "source": [
    "## doing the same cleaning for my dataet used for the model\n",
    "## please keep in mind when we compared two different datasets,There are a lot of zeros in the win coloumn as a lot of candidate do not end up winning or are not in office anymore.\n",
    "## We wanted to create some sort of model where we could relate our facts.That is why the most accurate dataset to choose would be 2018 as it is the latest.\n",
    "df2018.dis_amo.replace({'\\$':''},regex=True,inplace=True)\n",
    "df2018.dis_amo.replace({'\\,':''},regex=True,inplace=True)\n",
    "df2018.dis_amo.replace({'\\(':'-'},regex=True,inplace=True)\n",
    "df2018.dis_amo.replace({'\\)':''},regex=True,inplace=True)\n",
    "df2018.dropna(subset=['dis_dat'], how='all', inplace = True)\n",
    "df2018['dis_amo'].fillna(data['dis_amo'].mean(), inplace=True)\n",
    "df2018['can_off_dis'].fillna('UNKNOWN', inplace=True)\n",
    "df2018['rec_sta'].fillna('UNKNOWN', inplace=True)\n",
    "df2018['rec_cit'].fillna('UNKNOWN', inplace=True)\n",
    "df2018['rec_zip'].fillna('UNKNOWN', inplace=True)\n",
    "df2018['dis_pur_des'].fillna('UNKNOWN', inplace=True)\n",
    "df2018['cat_des'].fillna('OTHERS', inplace=True)\n",
    "df2018['rec_nam'].fillna('UNKNOWN', inplace=True)"
   ]
  },
  {
   "cell_type": "code",
   "execution_count": 34,
   "metadata": {},
   "outputs": [
    {
     "data": {
      "text/html": [
       "<div>\n",
       "<style scoped>\n",
       "    .dataframe tbody tr th:only-of-type {\n",
       "        vertical-align: middle;\n",
       "    }\n",
       "\n",
       "    .dataframe tbody tr th {\n",
       "        vertical-align: top;\n",
       "    }\n",
       "\n",
       "    .dataframe thead th {\n",
       "        text-align: right;\n",
       "    }\n",
       "</style>\n",
       "<table border=\"1\" class=\"dataframe\">\n",
       "  <thead>\n",
       "    <tr style=\"text-align: right;\">\n",
       "      <th></th>\n",
       "      <th>can_id</th>\n",
       "      <th>ele_yea</th>\n",
       "      <th>can_off_dis</th>\n",
       "      <th>cat_des</th>\n",
       "      <th>dis_amo</th>\n",
       "      <th>win</th>\n",
       "    </tr>\n",
       "  </thead>\n",
       "  <tbody>\n",
       "    <tr>\n",
       "      <td>0</td>\n",
       "      <td>H6AK00045</td>\n",
       "      <td>2018</td>\n",
       "      <td>1</td>\n",
       "      <td>OTHERS</td>\n",
       "      <td>300.00</td>\n",
       "      <td>1</td>\n",
       "    </tr>\n",
       "    <tr>\n",
       "      <td>1</td>\n",
       "      <td>H6AK00045</td>\n",
       "      <td>2018</td>\n",
       "      <td>1</td>\n",
       "      <td>OTHERS</td>\n",
       "      <td>3414.98</td>\n",
       "      <td>1</td>\n",
       "    </tr>\n",
       "    <tr>\n",
       "      <td>2</td>\n",
       "      <td>H6AK00045</td>\n",
       "      <td>2018</td>\n",
       "      <td>1</td>\n",
       "      <td>OTHERS</td>\n",
       "      <td>2.00</td>\n",
       "      <td>1</td>\n",
       "    </tr>\n",
       "    <tr>\n",
       "      <td>3</td>\n",
       "      <td>H6AK00045</td>\n",
       "      <td>2018</td>\n",
       "      <td>1</td>\n",
       "      <td>OTHERS</td>\n",
       "      <td>7000.00</td>\n",
       "      <td>1</td>\n",
       "    </tr>\n",
       "    <tr>\n",
       "      <td>4</td>\n",
       "      <td>H6AK00045</td>\n",
       "      <td>2018</td>\n",
       "      <td>1</td>\n",
       "      <td>OTHERS</td>\n",
       "      <td>1394.47</td>\n",
       "      <td>1</td>\n",
       "    </tr>\n",
       "    <tr>\n",
       "      <td>...</td>\n",
       "      <td>...</td>\n",
       "      <td>...</td>\n",
       "      <td>...</td>\n",
       "      <td>...</td>\n",
       "      <td>...</td>\n",
       "      <td>...</td>\n",
       "    </tr>\n",
       "    <tr>\n",
       "      <td>1063905</td>\n",
       "      <td>S8MO00327</td>\n",
       "      <td>2018</td>\n",
       "      <td>0</td>\n",
       "      <td>Campaign Event Expenses</td>\n",
       "      <td>9.76</td>\n",
       "      <td>0</td>\n",
       "    </tr>\n",
       "    <tr>\n",
       "      <td>1063906</td>\n",
       "      <td>S8MO00327</td>\n",
       "      <td>2018</td>\n",
       "      <td>0</td>\n",
       "      <td>Campaign Event Expenses</td>\n",
       "      <td>150.42</td>\n",
       "      <td>0</td>\n",
       "    </tr>\n",
       "    <tr>\n",
       "      <td>1063907</td>\n",
       "      <td>S8MO00327</td>\n",
       "      <td>2018</td>\n",
       "      <td>0</td>\n",
       "      <td>Campaign Materials</td>\n",
       "      <td>54.30</td>\n",
       "      <td>0</td>\n",
       "    </tr>\n",
       "    <tr>\n",
       "      <td>1063908</td>\n",
       "      <td>S8MO00327</td>\n",
       "      <td>2018</td>\n",
       "      <td>0</td>\n",
       "      <td>Campaign Event Expenses</td>\n",
       "      <td>90.41</td>\n",
       "      <td>0</td>\n",
       "    </tr>\n",
       "    <tr>\n",
       "      <td>1063909</td>\n",
       "      <td>H8ND00138</td>\n",
       "      <td>2018</td>\n",
       "      <td>1</td>\n",
       "      <td>OTHERS</td>\n",
       "      <td>750.00</td>\n",
       "      <td>0</td>\n",
       "    </tr>\n",
       "  </tbody>\n",
       "</table>\n",
       "<p>1063799 rows × 6 columns</p>\n",
       "</div>"
      ],
      "text/plain": [
       "            can_id  ele_yea  can_off_dis                  cat_des  dis_amo  \\\n",
       "0        H6AK00045     2018            1                   OTHERS   300.00   \n",
       "1        H6AK00045     2018            1                   OTHERS  3414.98   \n",
       "2        H6AK00045     2018            1                   OTHERS     2.00   \n",
       "3        H6AK00045     2018            1                   OTHERS  7000.00   \n",
       "4        H6AK00045     2018            1                   OTHERS  1394.47   \n",
       "...            ...      ...          ...                      ...      ...   \n",
       "1063905  S8MO00327     2018            0  Campaign Event Expenses     9.76   \n",
       "1063906  S8MO00327     2018            0  Campaign Event Expenses   150.42   \n",
       "1063907  S8MO00327     2018            0       Campaign Materials    54.30   \n",
       "1063908  S8MO00327     2018            0  Campaign Event Expenses    90.41   \n",
       "1063909  H8ND00138     2018            1                   OTHERS   750.00   \n",
       "\n",
       "         win  \n",
       "0          1  \n",
       "1          1  \n",
       "2          1  \n",
       "3          1  \n",
       "4          1  \n",
       "...      ...  \n",
       "1063905    0  \n",
       "1063906    0  \n",
       "1063907    0  \n",
       "1063908    0  \n",
       "1063909    0  \n",
       "\n",
       "[1063799 rows x 6 columns]"
      ]
     },
     "execution_count": 34,
     "metadata": {},
     "output_type": "execute_result"
    }
   ],
   "source": [
    "## creating dataframe for prediction\n",
    "\n",
    "\n",
    "current_legislator_fec_ids = list(df_legislator_current.fec_ids)\n",
    "df2018['win'] = df2018.apply(lambda x: (1 if x.can_id in current_legislator_fec_ids else 0),axis=1)\n",
    "df_p = df2018[['can_id','ele_yea','can_off_dis','cat_des','dis_amo','win']]\n",
    "df_p"
   ]
  },
  {
   "cell_type": "code",
   "execution_count": 35,
   "metadata": {},
   "outputs": [],
   "source": [
    "## converting to categorical values\n",
    "\n",
    "df_p['can_id'] = df_p['can_id'].astype('category')\n",
    "df_p['can_id_cat'] = df_p['can_id'].cat.codes"
   ]
  },
  {
   "cell_type": "code",
   "execution_count": 36,
   "metadata": {},
   "outputs": [],
   "source": [
    "df_p['cat_des'] = df_p['cat_des'].astype('category')\n",
    "df_p['cat_des_cat'] = df_p['cat_des'].cat.codes"
   ]
  },
  {
   "cell_type": "code",
   "execution_count": 37,
   "metadata": {},
   "outputs": [],
   "source": [
    "df_p['can_off_dis'] = df_p['can_off_dis'].astype('category')\n",
    "df_p['can_off_dis_cat'] = df_p['can_off_dis'].cat.codes"
   ]
  },
  {
   "cell_type": "code",
   "execution_count": 38,
   "metadata": {},
   "outputs": [],
   "source": [
    "## splitting into train and test sets\n",
    "\n",
    "dataset=df_p\n",
    "x=df_p.iloc[:,[1,4,6,7,8]].values\n",
    "y=df_p.iloc[:,5].values\n",
    "from sklearn.model_selection import train_test_split\n",
    "X_train, X_test, Y_train, Y_test = train_test_split(x, y, test_size = 0.25, random_state = 0)"
   ]
  },
  {
   "cell_type": "code",
   "execution_count": 39,
   "metadata": {},
   "outputs": [],
   "source": [
    "# Feature Scaling\n",
    "from sklearn.preprocessing import StandardScaler\n",
    "sc = StandardScaler()\n",
    "X_train = sc.fit_transform(X_train)\n",
    "X_test = sc.transform(X_test)"
   ]
  },
  {
   "cell_type": "markdown",
   "metadata": {},
   "source": [
    "1. Stochastic Gradient Descent (SGD) is a simple yet very efficient approach to discriminative learning of \n",
    "linear classifiers under convex loss functions such as (linear) Support Vector Machines and Logistic Regression."
   ]
  },
  {
   "cell_type": "code",
   "execution_count": 40,
   "metadata": {},
   "outputs": [
    {
     "data": {
      "text/plain": [
       "SGDClassifier(alpha=0.0001, average=False, class_weight=None,\n",
       "              early_stopping=False, epsilon=0.1, eta0=0.0, fit_intercept=True,\n",
       "              l1_ratio=0.15, learning_rate='optimal', loss='hinge',\n",
       "              max_iter=1000, n_iter_no_change=5, n_jobs=None, penalty='l2',\n",
       "              power_t=0.5, random_state=None, shuffle=True, tol=0.001,\n",
       "              validation_fraction=0.1, verbose=0, warm_start=False)"
      ]
     },
     "execution_count": 40,
     "metadata": {},
     "output_type": "execute_result"
    },
    {
     "data": {
      "text/plain": [
       "68.93"
      ]
     },
     "execution_count": 40,
     "metadata": {},
     "output_type": "execute_result"
    }
   ],
   "source": [
    "sgd = SGDClassifier()\n",
    "sgd.fit(X_train, Y_train)\n",
    "Y_pred = sgd.predict(X_test)\n",
    "acc_sgd = round(sgd.score(X_train, Y_train) * 100, 2)\n",
    "acc_sgd"
   ]
  },
  {
   "cell_type": "markdown",
   "metadata": {},
   "source": [
    "2. KNN is a non-parametric, lazy learning algorithm. Its purpose is to use a database in\n",
    "which the data points are separated into several classes to predict the classification of a new sample point. "
   ]
  },
  {
   "cell_type": "code",
   "execution_count": 41,
   "metadata": {},
   "outputs": [
    {
     "data": {
      "text/plain": [
       "KNeighborsClassifier(algorithm='auto', leaf_size=30, metric='minkowski',\n",
       "                     metric_params=None, n_jobs=None, n_neighbors=3, p=2,\n",
       "                     weights='uniform')"
      ]
     },
     "execution_count": 41,
     "metadata": {},
     "output_type": "execute_result"
    },
    {
     "data": {
      "text/plain": [
       "99.24"
      ]
     },
     "execution_count": 41,
     "metadata": {},
     "output_type": "execute_result"
    }
   ],
   "source": [
    "knn = KNeighborsClassifier(n_neighbors = 3)\n",
    "knn.fit(X_train, Y_train)\n",
    "Y_pred = knn.predict(X_test)\n",
    "acc_knn = round(knn.score(X_train, Y_train) * 100, 2)\n",
    "acc_knn"
   ]
  },
  {
   "cell_type": "code",
   "execution_count": 53,
   "metadata": {},
   "outputs": [
    {
     "data": {
      "text/plain": [
       "array([[105391,  37627],\n",
       "       [ 42078,  80854]], dtype=int64)"
      ]
     },
     "execution_count": 53,
     "metadata": {},
     "output_type": "execute_result"
    },
    {
     "data": {
      "text/plain": [
       "<matplotlib.axes._subplots.AxesSubplot at 0x25389d6f148>"
      ]
     },
     "execution_count": 53,
     "metadata": {},
     "output_type": "execute_result"
    },
    {
     "data": {
      "text/plain": [
       "Text(0.5, 25.0, 'y_pred')"
      ]
     },
     "execution_count": 53,
     "metadata": {},
     "output_type": "execute_result"
    },
    {
     "data": {
      "text/plain": [
       "Text(25.0, 0.5, 'y_true')"
      ]
     },
     "execution_count": 53,
     "metadata": {},
     "output_type": "execute_result"
    },
    {
     "data": {
      "image/png": "[encoded data removed]",
      "text/plain": [
       "<Figure size 360x360 with 2 Axes>"
      ]
     },
     "metadata": {},
     "output_type": "display_data"
    }
   ],
   "source": [
    "#Confusion matrix with knn parameters and predictions.\n",
    "from sklearn.metrics import confusion_matrix\n",
    "cm = confusion_matrix(Y_test, Y_pred)\n",
    "cm\n",
    "f, ax=plt.subplots(figsize=(5,5))\n",
    "sns.heatmap(cm,annot=True,linewidths=0.5,linecolor=\"red\",fmt=\".0f\",ax=ax)\n",
    "plt.xlabel(\"y_pred\")\n",
    "plt.ylabel(\"y_true\")\n",
    "plt.show()\n"
   ]
  },
  {
   "cell_type": "markdown",
   "metadata": {},
   "source": [
    "3. Gaussian Naive Bayes is an algorithm having a Probabilistic Approach. It involves prior \n",
    "and posterior probability calculation of the classes in the dataset and the test data given a class respectively."
   ]
  },
  {
   "cell_type": "code",
   "execution_count": 42,
   "metadata": {},
   "outputs": [
    {
     "data": {
      "text/plain": [
       "GaussianNB(priors=None, var_smoothing=1e-09)"
      ]
     },
     "execution_count": 42,
     "metadata": {},
     "output_type": "execute_result"
    },
    {
     "data": {
      "text/plain": [
       "70.19"
      ]
     },
     "execution_count": 42,
     "metadata": {},
     "output_type": "execute_result"
    }
   ],
   "source": [
    "gaussian = GaussianNB()\n",
    "gaussian.fit(X_train, Y_train)\n",
    "Y_pred = gaussian.predict(X_test)\n",
    "acc_gaussian = round(gaussian.score(X_train, Y_train) * 100, 2)\n",
    "acc_gaussian\n"
   ]
  },
  {
   "cell_type": "markdown",
   "metadata": {},
   "source": [
    "4. Logistic regression is a statistical model that in its basic form uses a\n",
    "logistic function to model a binary dependent variable, although many more complex extensions exist."
   ]
  },
  {
   "cell_type": "code",
   "execution_count": 43,
   "metadata": {},
   "outputs": [
    {
     "data": {
      "text/plain": [
       "LogisticRegression(C=1.0, class_weight=None, dual=False, fit_intercept=True,\n",
       "                   intercept_scaling=1, l1_ratio=None, max_iter=100,\n",
       "                   multi_class='warn', n_jobs=None, penalty='l2',\n",
       "                   random_state=None, solver='warn', tol=0.0001, verbose=0,\n",
       "                   warm_start=False)"
      ]
     },
     "execution_count": 43,
     "metadata": {},
     "output_type": "execute_result"
    },
    {
     "data": {
      "text/plain": [
       "69.95"
      ]
     },
     "execution_count": 43,
     "metadata": {},
     "output_type": "execute_result"
    }
   ],
   "source": [
    "logreg = LogisticRegression()\n",
    "logreg.fit(X_train, Y_train)\n",
    "Y_pred = logreg.predict(X_test)\n",
    "acc_log = round(logreg.score(X_train, Y_train) * 100, 2)\n",
    "acc_log"
   ]
  },
  {
   "cell_type": "code",
   "execution_count": 44,
   "metadata": {},
   "outputs": [
    {
     "data": {
      "text/html": [
       "<div>\n",
       "<style scoped>\n",
       "    .dataframe tbody tr th:only-of-type {\n",
       "        vertical-align: middle;\n",
       "    }\n",
       "\n",
       "    .dataframe tbody tr th {\n",
       "        vertical-align: top;\n",
       "    }\n",
       "\n",
       "    .dataframe thead th {\n",
       "        text-align: right;\n",
       "    }\n",
       "</style>\n",
       "<table border=\"1\" class=\"dataframe\">\n",
       "  <thead>\n",
       "    <tr style=\"text-align: right;\">\n",
       "      <th></th>\n",
       "      <th>Model</th>\n",
       "      <th>Score</th>\n",
       "    </tr>\n",
       "  </thead>\n",
       "  <tbody>\n",
       "    <tr>\n",
       "      <td>0</td>\n",
       "      <td>KNN</td>\n",
       "      <td>99.24</td>\n",
       "    </tr>\n",
       "    <tr>\n",
       "      <td>2</td>\n",
       "      <td>Naive Bayes</td>\n",
       "      <td>70.19</td>\n",
       "    </tr>\n",
       "    <tr>\n",
       "      <td>1</td>\n",
       "      <td>Logistic Regression</td>\n",
       "      <td>69.95</td>\n",
       "    </tr>\n",
       "    <tr>\n",
       "      <td>3</td>\n",
       "      <td>SGDClassifier</td>\n",
       "      <td>68.93</td>\n",
       "    </tr>\n",
       "  </tbody>\n",
       "</table>\n",
       "</div>"
      ],
      "text/plain": [
       "                 Model  Score\n",
       "0                  KNN  99.24\n",
       "2          Naive Bayes  70.19\n",
       "1  Logistic Regression  69.95\n",
       "3        SGDClassifier  68.93"
      ]
     },
     "execution_count": 44,
     "metadata": {},
     "output_type": "execute_result"
    }
   ],
   "source": [
    "models = pd.DataFrame({\n",
    "    'Model': ['KNN', 'Logistic Regression', \n",
    "               'Naive Bayes',\n",
    "               'SGDClassifier' \n",
    "              ],\n",
    "    'Score': [acc_knn, acc_log, \n",
    "             acc_gaussian,\n",
    "              acc_sgd]})\n",
    "models.sort_values(by='Score', ascending=False)"
   ]
  },
  {
   "cell_type": "markdown",
   "metadata": {},
   "source": [
    "For our model, KNN turned out to be the most accurate."
   ]
  },
  {
   "cell_type": "markdown",
   "metadata": {},
   "source": [
    "\n",
    "## <center> THANK YOU <CENTER>\n",
    "\n",
    "REFERENCES:\n",
    "    www.kaggle.com\n",
    "    www.data.gov.com\n",
    "    www.stackoverflow.com\n",
    "\n",
    "    \n",
    "ACKNOWLEDGEMENTS:\n",
    "    We would like to thank Professor Denis for guiding us \n",
    "    through this course and helping us learn Data Analytics with Python"
   ]
  }
 ],
 "metadata": {
  "kernelspec": {
   "display_name": "Python 3",
   "language": "python",
   "name": "python3"
  },
  "language_info": {
   "codemirror_mode": {
    "name": "ipython",
    "version": 3
   },
   "file_extension": ".py",
   "mimetype": "text/x-python",
   "name": "python",
   "nbconvert_exporter": "python",
   "pygments_lexer": "ipython3",
   "version": "3.7.4"
  }
 },
 "nbformat": 4,
 "nbformat_minor": 2
}
